{
 "cells": [
  {
   "cell_type": "markdown",
   "metadata": {},
   "source": [
    "# Problem set 2 (145 pts)"
   ]
  },
  {
   "cell_type": "markdown",
   "metadata": {},
   "source": [
    "## Problem 1 (LU decomposition) 25 pts"
   ]
  },
  {
   "cell_type": "markdown",
   "metadata": {},
   "source": [
    "## 1.\n",
    "### LU for band matrices (7 pts)\n",
    "\n",
    "The complexity to find an LU decomposition of a dense $n\\times n$ matrix is $\\mathcal{O}(n^3)$.\n",
    "Significant reduction in complexity can be achieved if the matrix has a certain structure, e.g. it is sparse. \n",
    "In the following task we consider an important example of $LU$ for a special type of sparse matrices –– band matrices with the bandwidth $m$ equal to 3 or 5 which called tridiagonal and pentadiagonal respectively.\n",
    "\n",
    "- (5 pts) Write a function ```band_lu(diag_broadcast, n)``` which computes LU decomposition for tridiagonal or pentadiagonal matrix with given diagonal values. \n",
    "For example, input parametres ```(diag_broadcast = [4,-2,1], n = 4)``` mean that we need to find LU decomposition for the triangular matrix of the form:\n",
    "\n",
    "$$A = \\begin{pmatrix}\n",
    "-2 & 1 & 0 & 0\\\\\n",
    "4 & -2 & 1 & 0 \\\\\n",
    "0 & 4 & -2 & 1 \\\\\n",
    "0 & 0 & 4 & -2 \\\\\n",
    "\\end{pmatrix}.$$\n",
    "\n",
    "As an output it is considered to make ```L``` and ```U``` - 2D arrays representing diagonals in factors $L$ (```L[0]``` keeps first lower diagonal, ```L[1]``` keeps second lower, ...), and $U$ (```U[:,0]``` keeps main diagonal, ```U[:,1]``` keeps first upper, ...).\n",
    "- (2 pts) Compare execution time of the band LU decomposition using standard function from ```scipy```, i.e. which takes the whole matrix and does not know about its special structure, and band decomposition of yours implementation. Comment on the results."
   ]
  },
  {
   "cell_type": "code",
   "execution_count": 1,
   "metadata": {},
   "outputs": [
    {
     "name": "stdout",
     "output_type": "stream",
     "text": [
      "Requirement already satisfied: numpy==1.16.4 in /Users/aleksandr.belov/work/tools/anaconda3/lib/python3.7/site-packages (1.16.4)\r\n",
      "Requirement already satisfied: scipy==1.3.0 in /Users/aleksandr.belov/work/tools/anaconda3/lib/python3.7/site-packages (1.3.0)\r\n"
     ]
    }
   ],
   "source": [
    "!pip install numpy==1.16.4 scipy==1.3.0"
   ]
  },
  {
   "cell_type": "code",
   "execution_count": 2,
   "metadata": {},
   "outputs": [],
   "source": [
    "import numpy as np\n",
    "from scipy.sparse import diags, coo_matrix, issparse\n",
    "# can be used with broadcasting of scalars if desired dimensions are large\n",
    "import scipy.linalg as la"
   ]
  },
  {
   "cell_type": "markdown",
   "metadata": {},
   "source": [
    "### 1.1"
   ]
  },
  {
   "cell_type": "code",
   "execution_count": 3,
   "metadata": {},
   "outputs": [],
   "source": [
    "# INPUT : diag_broadcast - list of diagonals value to broadcast,length equal to 3 or 5; \n",
    "#         n - integer, band matrix shape.\n",
    "# OUTPUT : L - 2D np.ndarray, L.shape[0] depends on bandwidth, L.shape[1] = n-1, \n",
    "#              do not store main diagonal, where all ones;                  \n",
    "#              add zeros to the right side of rows to handle with changing length of diagonals.\n",
    "#          U - 2D np.ndarray, U.shape[0] = n, U.shape[1] depends on bandwidth;\n",
    "#              add zeros to the bottom of columns to handle with changing length of diagonals.\n",
    "\n",
    "def band_lu(diag_broadcast, n):\n",
    "    m = len(diag_broadcast)\n",
    "    assert m == 3 or m == 5, 'Wrong diag_broadcast dim!'\n",
    "\n",
    "    L = np.zeros((m//2, n-1))\n",
    "    U = np.zeros((n, m//2+1))\n",
    "\n",
    "    if m == 3:\n",
    "        a, b, c = diag_broadcast\n",
    "\n",
    "        U[0, 0] = b\n",
    "        U[:-1, -1] = c * np.ones(n-1)\n",
    "        L[0, :] = a * np.ones(n-1)\n",
    "\n",
    "        for i in range(n-1):\n",
    "            assert not np.isclose(U[i, 0], 0, atol=1e-5), 'Singular matrix'\n",
    "            L[0, i] /= U[i, 0]\n",
    "            U[i+1, 0] = b - L[0, i] * c\n",
    "\n",
    "    if m == 5:\n",
    "        a, b, c, d, e = diag_broadcast\n",
    "\n",
    "        L[1, :] = a * np.ones(n-1)\n",
    "        U[:-2, -1] = e * np.ones(n-2)\n",
    "\n",
    "        U[0, :2] = c, d\n",
    "        L[0, 0] = b / U[0, 0]\n",
    "\n",
    "        U[1, :2] = c - b*U[0, 1] / U[0, 0], d - b*e / U[0, 0]\n",
    "\n",
    "        for i in range(n-2):\n",
    "            assert not (np.isclose(U[i, 0], 0, atol=1e-5) and\n",
    "                        np.isclose(U[i+1, 0], 0, atol=1e-5)), 'Singular matrix'\n",
    "\n",
    "            L[1, i] /= U[i, 0]\n",
    "            L[0, i+1] = (b - a*U[i, 1] / U[i, 0]) / U[i+1, 0]\n",
    "\n",
    "            X = b - a*U[i, 1] / U[i, 0]\n",
    "            U[i+2, 0] = c - X*U[i+1, 1] / U[i+1, 0] - a*U[i, 2] / U[i, 0]\n",
    "            U[i+2, 1] = d - X*U[i+1, 2] / U[i+1, 0]\n",
    "\n",
    "    return L, U"
   ]
  },
  {
   "cell_type": "code",
   "execution_count": 4,
   "metadata": {},
   "outputs": [],
   "source": [
    "# Your solution is here\n",
    "diag_broadcast = [1, -4, 7, 2, 3]\n",
    "n = 6\n",
    "L, U = band_lu(diag_broadcast, n)"
   ]
  },
  {
   "cell_type": "markdown",
   "metadata": {},
   "source": [
    "#### Let's check result"
   ]
  },
  {
   "cell_type": "code",
   "execution_count": 5,
   "metadata": {},
   "outputs": [
    {
     "name": "stdout",
     "output_type": "stream",
     "text": [
      "OK!\n"
     ]
    }
   ],
   "source": [
    "L_offsets = [-1] if len(diag_broadcast) == 3 else [-1, -2]\n",
    "U_offsets = [0, 1] if len(diag_broadcast) == 3 else [0, 1, 2]\n",
    "A_diags = [-1, 0, 1] if len(diag_broadcast) == 3 else [-2, -1, 0, 1, 2]\n",
    "\n",
    "L_dense = diags(L, offsets=L_offsets).toarray() + np.eye(n)\n",
    "U_dense = diags(U.T, offsets=U_offsets).toarray()\n",
    "A_dense = diags(diag_broadcast, A_diags, shape=(n, n)).toarray()\n",
    "\n",
    "assert np.isclose(L_dense @ U_dense, A_dense).all(), 'Wrong LU decomposition'\n",
    "print('OK!')"
   ]
  },
  {
   "cell_type": "markdown",
   "metadata": {},
   "source": [
    "### 1.2"
   ]
  },
  {
   "cell_type": "code",
   "execution_count": 6,
   "metadata": {},
   "outputs": [
    {
     "name": "stdout",
     "output_type": "stream",
     "text": [
      "10.6 s ± 534 ms per loop (mean ± std. dev. of 7 runs, 1 loop each)\n",
      "276 ms ± 5.84 ms per loop (mean ± std. dev. of 7 runs, 1 loop each)\n"
     ]
    }
   ],
   "source": [
    "n = 10000\n",
    "A_dense = diags(diag_broadcast, A_diags, shape=(n, n)).toarray()\n",
    "\n",
    "%timeit la.lu(A_dense)\n",
    "%timeit band_lu(diag_broadcast, n)"
   ]
  },
  {
   "cell_type": "markdown",
   "metadata": {},
   "source": [
    "- We can see, that our LU decomposition for band matrices much more efficient. The complexity to find an LU decomposition of a dense $n\\times n$ matrix is $\\mathcal{O}(n^3)$, but for band matrix - $\\mathcal{O}(nb^2)$, where $b$ is bandwidth."
   ]
  },
  {
   "cell_type": "markdown",
   "metadata": {},
   "source": [
    "##  2.\n",
    "### Stability of LU (8 pts)\n",
    "\n",
    "Let\n",
    "$A = \\begin{pmatrix}\n",
    "\\varepsilon & 1 & 0\\\\\n",
    "1 & 1 & 1 \\\\\n",
    "0 & 1 & 1\n",
    "\\end{pmatrix}.$ \n",
    "* (5 pts) Find analytically LU decomposition with and without pivoting for the matrix $A$.\n",
    "* (3 pts) Explain, why can the LU decomposition fail to approximate factors $L$ and $U$ for $|\\varepsilon|\\ll 1$ in computer arithmetic?"
   ]
  },
  {
   "cell_type": "code",
   "execution_count": 7,
   "metadata": {},
   "outputs": [],
   "source": [
    "# Your solution is here"
   ]
  },
  {
   "cell_type": "markdown",
   "metadata": {},
   "source": [
    "### 2.1\n",
    "$A = \\begin{pmatrix}\n",
    "\\varepsilon & 1 & 0\\\\\n",
    "1 & 1 & 1 \\\\\n",
    "0 & 1 & 1\n",
    "\\end{pmatrix} = \n",
    "\\begin{pmatrix}\n",
    "1 & 0 & 0\\\\\n",
    "* & 1 & 0 \\\\\n",
    "* & * & 1\n",
    "\\end{pmatrix} \n",
    "\\begin{pmatrix}\n",
    "* & * & *\\\\\n",
    "0 & * & * \\\\\n",
    "0 & 0 & *\n",
    "\\end{pmatrix}= \n",
    "\\begin{pmatrix}\n",
    "1 & 0 & 0\\\\\n",
    "* & 1 & 0 \\\\\n",
    "* & * & 1\n",
    "\\end{pmatrix} \n",
    "\\begin{pmatrix}\n",
    "\\varepsilon & 1 & 0\\\\\n",
    "0 & * & * \\\\\n",
    "0 & 0 & *\n",
    "\\end{pmatrix}= \n",
    "\\begin{pmatrix}\n",
    "1 & 0 & 0\\\\\n",
    "\\varepsilon^{-1} & 1 & 0 \\\\\n",
    "* & * & 1\n",
    "\\end{pmatrix} \n",
    "\\begin{pmatrix}\n",
    "\\varepsilon & 1 & 0\\\\\n",
    "0 & 1-\\varepsilon^{-1} & 1 \\\\\n",
    "0 & 0 & *\n",
    "\\end{pmatrix}=$\n",
    "\n",
    "\n",
    "$=\\begin{pmatrix}\n",
    "1 & 0 & 0\\\\\n",
    "\\varepsilon^{-1} & 1 & 0 \\\\\n",
    "0 & \\frac{\\varepsilon}{\\varepsilon-1} & 1\n",
    "\\end{pmatrix} \n",
    "\\begin{pmatrix}\n",
    "\\varepsilon & 1 & 0\\\\\n",
    "0 & 1-\\varepsilon^{-1} & 1 \\\\\n",
    "0 & 0 & \\frac{1}{1-\\varepsilon}\n",
    "\\end{pmatrix}$ \n",
    "\n",
    "$$L = \\begin{pmatrix}\n",
    "1 & 0 & 0\\\\\n",
    "\\varepsilon^{-1} & 1 & 0 \\\\\n",
    "0 & \\frac{\\varepsilon}{\\varepsilon-1} & 1\n",
    "\\end{pmatrix};   U = \\begin{pmatrix}\n",
    "\\varepsilon & 1 & 0\\\\\n",
    "0 & 1-\\varepsilon^{-1} & 1 \\\\\n",
    "0 & 0 & \\frac{1}{1-\\varepsilon}\n",
    "\\end{pmatrix} \n",
    "$$\n",
    "\n"
   ]
  },
  {
   "cell_type": "markdown",
   "metadata": {},
   "source": [
    "Let `P` be a permutation matrix, such that\n",
    "$P = \\begin{pmatrix}\n",
    "0 & 1 & 0\\\\\n",
    "1 & 0 & 0 \\\\\n",
    "0 & 0 & 1\n",
    "\\end{pmatrix}$  then   $PA = \\begin{pmatrix}\n",
    "1 & 1 & 1 \\\\\n",
    "\\varepsilon & 1 & 0\\\\\n",
    "0 & 1 & 1\n",
    "\\end{pmatrix}.$\n",
    "\n",
    "$PA = \\begin{pmatrix}\n",
    "1 & 1 & 1 \\\\\n",
    "\\varepsilon & 1 & 0\\\\\n",
    "0 & 1 & 1\n",
    "\\end{pmatrix} = \n",
    "\\begin{pmatrix}\n",
    "1 & 0 & 0\\\\\n",
    "* & 1 & 0 \\\\\n",
    "* & * & 1\n",
    "\\end{pmatrix} \n",
    "\\begin{pmatrix}\n",
    "* & * & *\\\\\n",
    "0 & * & * \\\\\n",
    "0 & 0 & *\n",
    "\\end{pmatrix}= \n",
    "\\begin{pmatrix}\n",
    "1 & 0 & 0\\\\\n",
    "\\varepsilon & 1 & 0 \\\\\n",
    "* & * & 1\n",
    "\\end{pmatrix} \n",
    "\\begin{pmatrix}\n",
    "1 & 1 & 1\\\\\n",
    "0 & 1-\\varepsilon & -\\varepsilon \\\\\n",
    "0 & 0 & *\n",
    "\\end{pmatrix} =\n",
    "\\begin{pmatrix}\n",
    "1 & 0 & 0\\\\\n",
    "\\varepsilon & 1 & 0 \\\\\n",
    "0 & (1-\\varepsilon)^{-1} & 1\n",
    "\\end{pmatrix} \n",
    "\\begin{pmatrix}\n",
    "1 & 1 & 1\\\\\n",
    "0 & 1-\\varepsilon & -\\varepsilon \\\\\n",
    "0 & 0 & (1-\\varepsilon)^{-1}\n",
    "\\end{pmatrix}$ \n",
    "\n",
    "\n",
    "$$L = \\begin{pmatrix}\n",
    "1 & 0 & 0\\\\\n",
    "\\varepsilon & 1 & 0 \\\\\n",
    "0 & (1-\\varepsilon)^{-1} & 1\n",
    "\\end{pmatrix};   U = \\begin{pmatrix}\n",
    "1 & 1 & 1\\\\\n",
    "0 & 1-\\varepsilon & -\\varepsilon \\\\\n",
    "0 & 0 & (1-\\varepsilon)^{-1}\n",
    "\\end{pmatrix}\n",
    "$$"
   ]
  },
  {
   "cell_type": "markdown",
   "metadata": {},
   "source": [
    "Without pivoting:\n",
    "- This problem does not arise because we work with numbers of order $\\varepsilon$ and  $1-\\varepsilon \\approx (1-\\varepsilon)^{-1} \\approx 1$"
   ]
  },
  {
   "cell_type": "code",
   "execution_count": 8,
   "metadata": {},
   "outputs": [
    {
     "name": "stdout",
     "output_type": "stream",
     "text": [
      "Float32: 1000.0001 10000.0\n",
      "Float64: 100000000.00000001 1000000000.0\n"
     ]
    }
   ],
   "source": [
    "# Example\n",
    "print('Float32:', np.float32(1e-4+1e3), np.float32(1e-4+1e4))\n",
    "print('Float64:', np.float64(1e-8+1e8), np.float64(1e-8+1e9))"
   ]
  },
  {
   "cell_type": "code",
   "execution_count": 9,
   "metadata": {},
   "outputs": [
    {
     "name": "stdout",
     "output_type": "stream",
     "text": [
      "Float32: 1000.0001 10000.0\n",
      "Float64: 100000000.00000001 1000000000.0\n"
     ]
    }
   ],
   "source": [
    "# Example\n",
    "print('Float32:', np.float32(1e-4+1e3), np.float32(1e-4+1e4))\n",
    "print('Float64:', np.float64(1e-8+1e8), np.float64(1e-8+1e9))"
   ]
  },
  {
   "cell_type": "markdown",
   "metadata": {},
   "source": [
    "With pivoting:\n",
    "- By matrix product L and U we have to add $\\varepsilon$ and $\\varepsilon^{-1}$. For example, the `float32` has 7 significant digits and `float64` has 16 significant digits. If $|\\varepsilon|\\ll 1$ we may loss accuracy."
   ]
  },
  {
   "cell_type": "code",
   "execution_count": 10,
   "metadata": {},
   "outputs": [
    {
     "name": "stdout",
     "output_type": "stream",
     "text": [
      "Float32: 0.9999999 1.00000010000001\n"
     ]
    }
   ],
   "source": [
    "# Example\n",
    "eps = 1e-7\n",
    "print('Float32:', np.float64(1-eps), np.float64(1/(1-eps)))"
   ]
  },
  {
   "cell_type": "markdown",
   "metadata": {},
   "source": [
    "## 3. \n",
    "### Block LU (10 pts)\n",
    "\n",
    "Let $A = \\begin{bmatrix} A_{11} & A_{12} \\\\ A_{21} & A_{22} \\end{bmatrix}$ be a block matrix. The goal is to solve the linear system\n",
    "\n",
    "$$\n",
    "     \\begin{bmatrix} A_{11} & A_{12} \\\\ A_{21} & A_{22} \\end{bmatrix} \\begin{bmatrix} u_1 \\\\ u_2 \\end{bmatrix} = \\begin{bmatrix} f_1 \\\\ f_2 \\end{bmatrix}.\n",
    "$$\n",
    "\n",
    "* (2 pts) Using block elimination find matrix $S$ and right-hand side $\\hat{f_2}$ so that $u_2$ can be found from $S u_2 = \\hat{f_2}$. Note that the matrix $S$ is called <font color='red'> Schur complement </font> of the block $A_{11}$.\n",
    "* (4 pts) Using Schur complement properties prove that \n",
    "\n",
    "$$\\det(X+AB) = \\det(X)\\det(I+BX^{-1}A), $$\n",
    "\n",
    "\n",
    "where $X$ - nonsingular square matrix.\n",
    "* (4 pts) Let matrix $F \\in \\mathbb{R}^{m \\times n}$ and $G \\in \\mathbb{R}^{n \\times m}$. Prove that \n",
    "\n",
    "$$\\det(I_m - FG) = \\det(I_n - GF).$$"
   ]
  },
  {
   "cell_type": "code",
   "execution_count": 11,
   "metadata": {},
   "outputs": [],
   "source": [
    "# Your solution is here"
   ]
  },
  {
   "cell_type": "markdown",
   "metadata": {},
   "source": [
    "### 3.1\n",
    " $\n",
    "     \\begin{bmatrix} A_{11} & A_{12} \\\\ A_{21} & A_{22} \\end{bmatrix} \\begin{bmatrix} u_1 \\\\ u_2 \\end{bmatrix} = \\begin{bmatrix} f_1 \\\\ f_2 \\end{bmatrix}$ the same as $\\begin{cases} A_{11} u_1 + A_{12}u_2 = f_1 \\\\ \n",
    "     A_{21}u_1 + A_{22}u_2 = f_2 \\end{cases}.$\n",
    "\n",
    "Assume that $A_{11}$ is non-singular matrix then multiply the first equation by $A_{21}A_{11}^{-1}$ and subtract the first from the second:\n",
    "\n",
    "$$\\left(A_{22} - A_{21}A_{11}^{-1}A_{12}\\right)u_2 = f_2 - A_{21}A_{11}^{-1}f_1$$\n",
    "\n",
    "So $$\\begin{cases} S = A_{22} - A_{21}A_{11}^{-1}A_{12} \\\\ \n",
    "                  \\hat{f_2} = f_2 - A_{21}A_{11}^{-1}f_1 \\end{cases}.$$"
   ]
  },
  {
   "cell_type": "markdown",
   "metadata": {},
   "source": [
    "### 3.2\n",
    "$$det(X + AB) = det\\left(\\begin{pmatrix}\n",
    "I & -B \\\\ \n",
    "A & X \\\\ \n",
    "\\end{pmatrix}\n",
    "\\begin{pmatrix}\n",
    "I & B \\\\ \n",
    "0 & I \\\\ \n",
    "\\end{pmatrix}\n",
    "\\right) = det\\begin{pmatrix}\n",
    "I & 0 \\\\ \n",
    "A & X+AB \\\\ \n",
    "\\end{pmatrix} = det\\begin{pmatrix}\n",
    "I & -B \\\\ \n",
    "A & X \\\\ \n",
    "\\end{pmatrix}\n",
    "$$\n",
    "\n",
    "\n",
    "$$det\\begin{pmatrix}\n",
    "I & -B \\\\ \n",
    "A & X \\\\ \n",
    "\\end{pmatrix} = det\\left(\\begin{pmatrix}\n",
    "I & -B \\\\ \n",
    "A & X \\\\ \n",
    "\\end{pmatrix}\n",
    "\\begin{pmatrix}\n",
    "I & 0 \\\\ \n",
    "-X^{-1}A & I \\\\ \n",
    "\\end{pmatrix}\n",
    "\\right) = det\\begin{pmatrix}\n",
    "I+BX^{-1}A & -B \\\\ \n",
    "0 & X \\\\ \n",
    "\\end{pmatrix} = det(X)det(I+BX^{-1}A)$$\n"
   ]
  },
  {
   "cell_type": "markdown",
   "metadata": {},
   "source": [
    "### 3.3\n",
    "Using result from 3.2:\n",
    "$$\\det(I_m - FG) = det\\begin{pmatrix}\n",
    "I_n & G \\\\ \n",
    "F & I_m \\\\ \n",
    "\\end{pmatrix} = det(I_m)det(I_n-GI_m^{-1}F) = det(I_n - GF)$$"
   ]
  },
  {
   "cell_type": "markdown",
   "metadata": {
    "slideshow": {
     "slide_type": "fragment"
    }
   },
   "source": [
    "## Problem 2 (QR decomposition) 30 pts\n",
    "\n",
    "## 1.\n",
    "###  Standard Gram-Schmidt algorithm (18 pts)\n",
    "Our goal is to orthogonalize a system of linearly independent vectors $v_1,\\dots,v_n$.\n",
    "The standard algorithm for this task is the Gram-Schmidt process:\n",
    "\n",
    "$$\n",
    "\\begin{split}\n",
    "u_1 &= v_1, \\\\\n",
    "u_2 &= v_2 - \\frac{(v_2, u_1)}{(u_1, u_1)} u_1, \\\\\n",
    "\\dots \\\\\n",
    "u_n &= v_n - \\frac{(v_n, u_1)}{(u_1, u_1)} u_1 - \\frac{(v_n, u_2)}{(u_2, u_2)} u_2 - \\dots - \\frac{(v_n, u_{n-1})}{(u_{n-1}, u_{n-1})} u_{n-1}.\n",
    "\\end{split}\n",
    "$$\n",
    "\n",
    "Obtained $u_1, \\dots, u_n$ are orthogonal vectors in exact arithmetics. Then to make the system orthonormal you should divide each of the vectors by its norm: $u_i := u_i/\\|u_i\\|$.\n",
    "The Gram-Schmidt process can be considered as a QR decomposition. Let us show that."
   ]
  },
  {
   "cell_type": "markdown",
   "metadata": {},
   "source": [
    "* (2 pts) Write out what is matrices $Q$ and $R$ obtained in the process above. \n",
    "\n",
    "* (5 pts) Implement the described Gram-Schmidt algorithm as a function ```gram_schmidt_qr(A)``` that takes a rectangular matrix ```A``` and outputs ```Q,R```.\n",
    "\n",
    "* (3 pts) Create a rectangular matrix $K = [x, Ax, A^2x, \\ldots, A^kx]$ where $A \\in \\mathbb{R}^{100 \\times 100}$ is a random matrix and $x$ is a random vector of the appropriate dimension, $k = 20$.  \n",
    "The loss of orthogonality can be described by the following error: $\\|Q^{\\top}Q-I\\|_2$, where $Q^{\\top}Q$ is called a Gram matrix. Compute QR decomposition of the created matrix $K$ with function that you have implemented and calculate error $\\|Q^{\\top}Q-I\\|_2$. Comment on the result.\n",
    "\n",
    "* (5 pts) The observed loss of orthogonality is a problem of this particular algorithm. Luckily, there is [a simple improvement to the algorithm above](https://en.wikipedia.org/wiki/Gram–Schmidt_process#Numerical_stability) that reduces the loss of orthogonality. Implement this modification as a function ```modified_gram_schmidt_qr(A)``` such that input and output are similar to ```gram_schmidt_qr(A)```. \n",
    "* (3 pts) Compute QR decomposition of the matrix $K$ from the previous task with the function ```modified_gram_schmidt_qr(A)```.\n",
    "Compute error $\\|Q^{\\top}Q-I\\|_2$. Compare this error to the error obtained with a \"pure\" Gram-Schmidt and comment on the result."
   ]
  },
  {
   "cell_type": "markdown",
   "metadata": {},
   "source": [
    "### 1.1\n",
    "\n",
    "Let $A = (a_1, \\dots, a_n)$ be a matrix $n\\times n$, where $a_i$ are columns of matrix $A$. We will create matrix $Q$ such that $QQ^* = Q^*Q = I$ *(Q is unitary)*.\n",
    "\n",
    "Using Gram-Schmidt process we will create from set of vectors $a_i$ orthonormal set of vectors $e_i$ and let $Q = (e_1, \\dots, e_n)$ and $R = Q^*A$, where R will be upper-triangular matrix"
   ]
  },
  {
   "cell_type": "markdown",
   "metadata": {},
   "source": [
    "### 1.2 & 1.4"
   ]
  },
  {
   "cell_type": "code",
   "execution_count": 12,
   "metadata": {},
   "outputs": [],
   "source": [
    "import numpy.linalg as LA\n",
    "# INPUT : rectangular matrix A\n",
    "# OUTPUT: matrices Q - orthogonal and R - upper triangular such that A = QR\n",
    "def gram_schmidt_qr(A): # 5 pts\n",
    "    # your code is here\n",
    "    m, n = A.shape\n",
    "    min_dim = min(n, m)\n",
    "    Q = A[:, :min_dim].copy()\n",
    "\n",
    "    for i in range(0, min_dim):\n",
    "        Q[:, i] -= sum((A[:, i] @ Q[:, j])*Q[:, j]  for j in range(i))\n",
    "        Q[:, i] /= LA.norm(Q[:, i])\n",
    "\n",
    "    R = Q.T @ A\n",
    "\n",
    "    return Q, R\n",
    "\n",
    "\n",
    "# INPUT : rectangular matrix A\n",
    "# OUTPUT: matrices Q - orthogonal and R - upper triangular such that A = QR\n",
    "def modified_gram_schmidt_qr(A): # 5 pts\n",
    "    # your code is here\n",
    "    m, n = A.shape\n",
    "    min_dim = min(n, m)\n",
    "    Q = A[:, :min_dim].copy()\n",
    "    \n",
    "    for i in range(0, min_dim):\n",
    "        for j in range(i):\n",
    "            Q[:, i] -= (Q[:, i] @ Q[:, j])*Q[:, j]\n",
    "        Q[:, i] /= LA.norm(Q[:, i])\n",
    "    \n",
    "    R = Q.T @ A\n",
    "    \n",
    "    return Q, R"
   ]
  },
  {
   "cell_type": "markdown",
   "metadata": {},
   "source": [
    "### 1.3 & 1.5"
   ]
  },
  {
   "cell_type": "code",
   "execution_count": 13,
   "metadata": {},
   "outputs": [
    {
     "name": "stdout",
     "output_type": "stream",
     "text": [
      "OK!\n"
     ]
    }
   ],
   "source": [
    "n = 100\n",
    "A = np.random.rand(n, n)\n",
    "x = np.random.rand(n, 1)\n",
    "\n",
    "Q1, R1 = gram_schmidt_qr(A)\n",
    "Q2, R2 = modified_gram_schmidt_qr(A)\n",
    "\n",
    "assert np.isclose(Q1@R1, A).all(), 'Wrong QR decomposition'\n",
    "assert np.isclose(Q2@R2, A).all(), 'Wrong QR decomposition'\n",
    "print('OK!')"
   ]
  },
  {
   "cell_type": "code",
   "execution_count": 14,
   "metadata": {},
   "outputs": [
    {
     "name": "stdout",
     "output_type": "stream",
     "text": [
      "12.982864247687461\n",
      "0.905983813302063\n"
     ]
    }
   ],
   "source": [
    "k = 20\n",
    "K = np.hstack([LA.matrix_power(A, i)@x for i in range(k+1)])\n",
    "\n",
    "Q1, R1 = gram_schmidt_qr(K)\n",
    "Q2, R2 = modified_gram_schmidt_qr(K)\n",
    "\n",
    "I = np.eye(k+1)\n",
    "print(LA.norm(Q1.T@Q1 - I, ord=2))\n",
    "print(LA.norm(Q2.T@Q2 - I, ord=2))"
   ]
  },
  {
   "cell_type": "code",
   "execution_count": 15,
   "metadata": {},
   "outputs": [
    {
     "data": {
      "text/plain": [
       "(0.019938230341648655, 5.1675893057489414e+33)"
      ]
     },
     "execution_count": 15,
     "metadata": {},
     "output_type": "execute_result"
    }
   ],
   "source": [
    "K.min(), K.max()"
   ]
  },
  {
   "cell_type": "markdown",
   "metadata": {},
   "source": [
    "- It's a typical floating-point arithmetic problem. The matrix $K$ numbers have too different orders, which is why rounding errors occur. The modified algorithm is more resistant to this."
   ]
  },
  {
   "cell_type": "markdown",
   "metadata": {},
   "source": [
    "## 2.\n",
    "### Updating QR decompositions (12 pts)\n",
    "\n",
    "Suppose we are dealing with overdetermined system:\n",
    "\n",
    "$$ Ax = y, \\;\\; A \\in \\mathbb{R}^{m \\times n}, \\;\\;  m \\geq n. $$\n",
    "\n",
    "If you were attentive during the course, you should be aware of \n",
    "the canonical way to solve this system. \n",
    "\n",
    "- No, implementing **Householder $QR$** will not be your task :)\n",
    "\n",
    "- We assume that $QR$ decomposition of $A$ **is given**:\n",
    "\n",
    "$$ QR = A = \\begin{bmatrix}a_1 & a_2 & \\ldots & a_n \\end{bmatrix}, \\;\\; a_i \\in \\mathbb{R}^m,$$\n",
    "\n",
    "where $Q \\in \\mathbb{R}^{m \\times m}$ is unitary matrix and $R \\in \\mathbb{R}^{m \\times n}$ is upper triangular.\n",
    "\n",
    "- Let $k$ be an arbitrary column index, $1 \\leq k \\leq n$, and $z \\in \\mathbb{R}^{m}$ be an arbitrary vector.\n",
    "\n",
    "We are interested in matrices:\n",
    "\n",
    "$$ \\tilde{A} = \\begin{bmatrix}a_1 & \\ldots & a_{k-1} & a_{k+1} & \\ldots a_n \\end{bmatrix} \\in \\mathbb{R}^{m \\times (n-1)},$$\n",
    "\n",
    "and:\n",
    "\n",
    "$$ \\hat{A} = \\begin{bmatrix}a_1 & \\ldots & a_{k} & z & a_{k+1} & \\ldots a_n \\end{bmatrix} \\in \\mathbb{R}^{m \\times (n+1)},$$\n",
    "\n",
    "which are obtained by deleting / inserting one column from / to the matrix $A$.\n",
    "\n",
    "For example, if $A$ comes from a least-squares problem, such matrices appear if one wants to examine the significance of the $k^{th}$ parameter in the underlying model (e.g. think in terms of linear regression).\n",
    "\n",
    "- We want to compute decompostions of these updated matrices:\n",
    "\n",
    "$$ \\tilde{A} = \\tilde{Q}\\tilde{R}, \\;\\; \\hat{A} = \\hat{Q}\\hat{R}. $$\n",
    "\n",
    "Performing full orthogonalization process will be redundant. Instead, the known $QR$ factors of $A$ should be **updated** in a proper way.\n",
    "\n",
    "- Different methods for performing $QR$ decomposition were studied during the course. We expect the factors of updated matrices can be recovered with a small number of selective updates, hence the **Givens rotations** seem to be the most appropriate.\n",
    "\n",
    "- Recall the Givens rotation matrix :\n",
    "\n",
    "$$G_{ij}(\\theta) = \\begin{bmatrix} \n",
    "1      & \\ldots & 0      & \\ldots & 0      & \\ldots & 0      \\\\\n",
    "\\vdots & \\ddots & \\vdots &        & \\vdots &        & \\vdots \\\\\n",
    "0      & \\ldots & c      & \\ldots & s      & \\ldots & 0      \\\\\n",
    "\\vdots &        & \\vdots & \\ddots & \\vdots &        & \\vdots \\\\\n",
    "0      & \\ldots & -s     & \\ldots & c      & \\ldots & 0      \\\\\n",
    "\\vdots &        & \\vdots &        & \\vdots & \\ddots & \\vdots \\\\\n",
    "0      & \\ldots & 0      & \\ldots & 0      & \\ldots & 1      \n",
    "\\end{bmatrix}  \\;\\; \\in \\mathbb{R}^{m \\times m}, \\;\\; c = \\cos \\theta, \\;\\; s = \\sin \\theta,$$ \n",
    "\n",
    "which differs from the identity $\\mathrm{I}^{m \\times m}$ by a $2 \\times 2$ sub-matrix:\n",
    "\n",
    "$$\n",
    "{G}(\\theta) = \\begin{bmatrix} c & s \\\\ -s & c \\end{bmatrix} \\in \\mathbb{R}^{2 \\times 2},\n",
    "$$\n",
    "placed on the rows and columns with indices $i$ and $j$. \n",
    "\n",
    "1. (1 pts)\n",
    "Matrix ${G}$ has clear geometric interpretation in 2 dimensions. Let  $a = \\begin{pmatrix} a_1 \\\\ a_2 \\end{pmatrix} \\in \\mathbb{R}^2$ be an arbitrary non-zero vector. According to the template provided below, implement the function to construct matrix $G$, such that:\n",
    "\n",
    "$$ {G}^T \\begin{pmatrix} a_1 \\\\ a_2 \\end{pmatrix} = \\begin{pmatrix} \\alpha \\\\ 0 \\end{pmatrix}.$$\n",
    "\n",
    "### 2.1\n",
    "What are geometrical meanings of $\\alpha$ and $\\theta$? \n",
    "- The $\\alpha$ is vector which will turn on $-\\theta$, where $\\theta$ is the angle between $\\alpha$ and OX."
   ]
  },
  {
   "cell_type": "code",
   "execution_count": 16,
   "metadata": {},
   "outputs": [
    {
     "data": {
      "text/plain": [
       "array([5.41627930e-01, 2.82400204e-17])"
      ]
     },
     "execution_count": 16,
     "metadata": {},
     "output_type": "execute_result"
    }
   ],
   "source": [
    "def givens(a):\n",
    "    '''\n",
    "    Input: \n",
    "        a: np.array of size (2)\n",
    "    Output: \n",
    "        G: np.array of size (2, 2)\n",
    "            Rotation matrix, G^T eliminates the second component of a\n",
    "    '''\n",
    "\n",
    "    # Your code is here\n",
    "    \n",
    "    r = LA.norm(a)\n",
    "    G = [[a[0], -a[1]], \n",
    "         [a[1], a[0]]]\n",
    "    G = np.asarray(G) / r\n",
    "    return G\n",
    "    \n",
    "# Check yourself \n",
    "a = np.random.rand(2)\n",
    "givens(a).T.dot(a) "
   ]
  },
  {
   "cell_type": "markdown",
   "metadata": {},
   "source": [
    "- Similarly, matrix $G_{ij}$ can be constructed in order to eliminate the $j^{th}$ component of an arbitrary vector of size $m$. This leads to the well-known **Givens $QR$ algorithm** (see lecture notes!).\n",
    "\n",
    "- Givens rotations typically appear in matrix form:\n",
    "\n",
    "$$ G_{ij}^T X, \\;\\; X^{'}G_{ij},$$\n",
    "\n",
    "where $X$ and $X^{'}$ are some matrices with compatible sizes, e.g. intermediate factors in the **Givens $QR$ algorithm**. \n",
    "\n",
    "How to perform these multiplications efficiently? \n",
    "Obviously, $G_{ij}$ does not need to be stored in explicit form. It affects only two rows / columns, hence only appropriate submatrices should be modified.\n",
    "\n",
    "2. (5 pts) Your second task is to propose an efficient procedure for computing $\\tilde{Q}, \\tilde{R}$ factors of $\\tilde{A}$ by a proper update of $Q, R$ factors of $A$. \n",
    "\n",
    "Hint: consider the following block partition of $R$ (assuming $k^{th}$ column deleted):\n",
    "$$ R = \n",
    "\\begin{bmatrix} \n",
    "R_{11} & v & R_{13} \\\\\n",
    "0 & r_{kk} & \\omega^T \\\\\n",
    "0 & 0 & R^{33}\n",
    "\\end{bmatrix},\n",
    "$$\n",
    "and note, that:\n",
    "$$Q^T\\tilde{A} = \n",
    "\\begin{bmatrix}\n",
    "R_{11} & R_{13} \\\\\n",
    "0 & \\omega^T \\\\\n",
    "0 & R_{33}\n",
    "\\end{bmatrix} = H.$$\n",
    "\n",
    "- (2 pts) What structure has matrix $H$ and how does it help in understanding the proper way to compute updated QR decomposition?\n",
    "\n",
    "- (3 pts) Implement the function according to the template provided below.\n",
    "Use Givens matrices $G_{ij}$ with $j = i+1$ for the convinience.\n",
    "\n",
    "- Only one loop over non-zero subdiagonal elements of $H$ is allowed. You are supposed to perform computations in a proper vectorized form. For example, the *in-place* multiplication $G_{ij}^T X$ with a random matrix $X \\in \\mathbb{R}^{m \\times n}$ can be implemented as follows: ```X[[i,j],:] = G.T.dot(X[[i,j],:])```. \n",
    "\n",
    "- Do not modify elements which are known to be zero.\n"
   ]
  },
  {
   "cell_type": "markdown",
   "metadata": {},
   "source": [
    "### 2.2\n",
    "What structure has matrix $H$ and how does it help in understanding the proper way to compute updated QR decomposition?\n",
    "- The matrix $H$ looks like $\\begin{pmatrix}\n",
    "* & * & * & * & * \\\\\n",
    "0 & * & * & * & * \\\\\n",
    "0 & 0 & * & * & * \\\\\n",
    "0 & 0 & * & * & * \\\\\n",
    "0 & 0 & 0 & * & * \\\\\n",
    "\\end{pmatrix}$.\n",
    "\n",
    "We should make this matrix an upper-triangular using Givens rotation. \n",
    "\n",
    "$\\hat{R} = G_1 \\cdot \\dots \\cdot G_k H = G H$, where $\\hat{R}$ is upper-triangular matrix.\n",
    "\n",
    "$\\hat{Q} = Q G_k^T \\cdot \\dots \\cdot G_1^T= Q G^T .$\n",
    "\n",
    "$\\hat{A} = \\hat{Q}\\hat{R}$, where A is a matrix without some column."
   ]
  },
  {
   "cell_type": "code",
   "execution_count": 17,
   "metadata": {},
   "outputs": [
    {
     "name": "stdout",
     "output_type": "stream",
     "text": [
      "OK!\n"
     ]
    }
   ],
   "source": [
    "def delete_column_QR(A, k):\n",
    "    '''\n",
    "    Input: \n",
    "        A: np.array of size (m, n) \n",
    "\n",
    "        k: positive integer\n",
    "            Index of deleted column, 0 \\leq k \\leq n - 1\n",
    "\n",
    "    Output: \n",
    "        Q: np.array of size (m, m)\n",
    "\n",
    "        R: np.array of size (m, n - 1)\n",
    "\n",
    "    '''\n",
    "    Q, R = np.linalg.qr(A, mode='complete') # factors of $A$ are know\n",
    "    R = np.delete(R, k, axis=1) # delete column\n",
    "\n",
    "    m, n = R.shape\n",
    "    items = n if m > n else m-1\n",
    "\n",
    "    for i in range(k, items):\n",
    "        G = givens(R[i:i+2, i])\n",
    "        R[i:i+2, i:] = G.T @ R[i:i+2, i:]\n",
    "        Q[:, i:i+2] = Q[:, i:i+2] @ G\n",
    "\n",
    "    # Your code is here\n",
    "    return Q, R\n",
    "\n",
    "\n",
    "# Check yourself\n",
    "m, n = (200, 100)\n",
    "A = np.random.rand(m, n)\n",
    "k = np.random.randint(0, n)\n",
    "\n",
    "A_tilde = np.delete(A, k, axis=1)\n",
    "Q_tilde, R_tilde = delete_column_QR(A, k)\n",
    "\n",
    "assert np.isclose(A_tilde, Q_tilde.dot(R_tilde)).all(), 'Wrong QR decomposition'\n",
    "print('OK!')"
   ]
  },
  {
   "cell_type": "markdown",
   "metadata": {},
   "source": [
    "### 2.3"
   ]
  },
  {
   "cell_type": "markdown",
   "metadata": {},
   "source": [
    "3. (3 pts) When a column is inserted, the factors $\\hat{Q}, \\hat{R}$ of $\\hat{A}$ again can be computed efficiently by a proper update of $Q, R$ factors of $A$.\n",
    "\n",
    "\n",
    "- Proceed similarly to the previous task. Implement the function according to the template provided below. \n",
    "\n",
    "- Choose optimal order of elimination to minimize the number of rotations."
   ]
  },
  {
   "cell_type": "code",
   "execution_count": 18,
   "metadata": {},
   "outputs": [
    {
     "name": "stdout",
     "output_type": "stream",
     "text": [
      "OK!\n"
     ]
    }
   ],
   "source": [
    "def insert_column_QR(A, k, z):\n",
    "    '''\n",
    "    Input: \n",
    "        A: np.array of size (m, n) \n",
    "\n",
    "        k: positive integer\n",
    "            Index of inserted column, 0 \\leq k leq n - 1\n",
    "\n",
    "        z: np.array of size (m)\n",
    "            Inserted column\n",
    "\n",
    "    Output: \n",
    "        Q: np.array of size (m, m)\n",
    "        \n",
    "        R: np.array of size (m, n + 1)\n",
    "    '''\n",
    "    Q, R = np.linalg.qr(A, mode='complete') # factors of $A$ are known\n",
    "    R = np.hstack((R[:, :k], (Q.T @ z)[:, np.newaxis], R[:, k:]))\n",
    "    # Your code is here\n",
    "\n",
    "    for i in reversed(range(k+2, R.shape[0]+1)):\n",
    "        G = givens(R[i-2:i, k])\n",
    "        R[i-2:i, k:] = G.T @ R[i-2:i, k:]\n",
    "        Q[:, i-2:i] = Q[:, i-2:i] @ G\n",
    "\n",
    "    return Q, R\n",
    "\n",
    "\n",
    "# Check yourself\n",
    "m, n = (200, 100)\n",
    "A = np.random.rand(m, n)\n",
    "k = np.random.randint(0, n)\n",
    "z = np.random.rand(m)\n",
    "\n",
    "A_hat = np.insert(A, k, z, axis=1)\n",
    "Q_hat, R_hat = insert_column_QR(A, k, z)\n",
    "\n",
    "assert np.isclose(A_hat, Q_hat.dot(R_hat)).all(), 'Wrong QR decomposition'\n",
    "print('OK!')"
   ]
  },
  {
   "cell_type": "markdown",
   "metadata": {},
   "source": [
    "4. (3 pts) In the context of least-squares problems, appending rows to a matrix is just as important as inserting columns (e.g. new samples in linear regression).\n",
    "\n",
    "Consider matrix:\n",
    "\n",
    "$$ \\overline{A} = \\begin{bmatrix} \\omega^T \\\\ A \\end{bmatrix} \\in \\mathbb{R}^{(m+1) \\times n},$$\n",
    "\n",
    "which is obtained by appending a row $\\omega^T \\in \\mathbb{R}^{n}$ to the matrix $A$.\n",
    "\n",
    "Similarly to the previous tasks, you need to compute $\\overline{Q}, \\overline{R}$ factors of $\\overline{A}$ by a proper update of $Q,R$ factors of $A$.\n",
    "\n",
    "- Implement the function according to the template provided below. Your code is still expected to be efficient!"
   ]
  },
  {
   "cell_type": "code",
   "execution_count": 19,
   "metadata": {},
   "outputs": [
    {
     "name": "stdout",
     "output_type": "stream",
     "text": [
      "OK!\n"
     ]
    }
   ],
   "source": [
    "def insert_row_QR(A, w):\n",
    "    '''\n",
    "    Input: \n",
    "        A: np.array of size (m, n)\n",
    "\n",
    "        w: np.array of size (n)\n",
    "            Inserted row\n",
    "        \n",
    "    Output:\n",
    "        Q: np.array of size (m + 1, m + 1)\n",
    "        \n",
    "        R: np.array of size (m + 1, n)\n",
    "    '''\n",
    "    m, n = A.shape\n",
    "    Q, R = np.linalg.qr(A, mode='complete')\n",
    "    # Your code is here\n",
    "    \n",
    "    Q = np.hstack((np.zeros(m)[:, np.newaxis], Q))\n",
    "    Q = np.vstack((np.zeros(m+1), Q))\n",
    "    Q[0, 0] = 1\n",
    "    R = np.vstack((w, R))\n",
    "    \n",
    "    for i in range(min(n, m)):\n",
    "        G = givens(R[i:i+2, i])\n",
    "        R[i:i+2, i:] = G.T @ R[i:i+2, i:]\n",
    "        Q[:, i:i+2] = Q[:, i:i+2] @ G\n",
    "        \n",
    "    return Q, R\n",
    "\n",
    "\n",
    "# Check yourself\n",
    "m, n = (200, 100)\n",
    "A = np.random.rand(m, n)\n",
    "w = np.random.rand(n)\n",
    "\n",
    "A_overline = np.insert(A, 0, w, axis=0)\n",
    "Q_overline, R_overline = insert_row_QR(A, w)\n",
    "\n",
    "assert np.isclose(A_overline, Q_overline.dot(R_overline)).all(), 'Wrong QR decomposition'\n",
    "print('OK!')"
   ]
  },
  {
   "cell_type": "markdown",
   "metadata": {},
   "source": [
    "## Problem 3 (Word2Vec as Matrix Factorization) 45 pts\n",
    "\n",
    "In this assignment you are supposed to apply SVD to training your own [word embedding model](https://en.wikipedia.org/wiki/Word_embedding) which maps English words to vectors of real numbers.\n",
    "\n",
    "Skip-Gram Negative Sampling (SGNS) word embedding model, commonly known as **word2vec** ([Mikolov et al., 2013](http://papers.nips.cc/paper/5021-distributed-representations-of-words-and-phrases-and-their-compositionality.pdf)), is usually optimized by stochastic gradient descent. However, the optimization of SGNS objective can be viewed as implicit matrix factorization objective as was shown in ([Levy and Goldberg, 2015](http://papers.nips.cc/paper/5477-neural-word-embedding-as-implicit-matrix-factorization.pdf))."
   ]
  },
  {
   "cell_type": "markdown",
   "metadata": {},
   "source": [
    "###### 1. Notation\n",
    "Assume we have a text corpus given as a sequence of words $\\{w_1,w_2,\\dots,w_n\\}$ where $n$ may be larger than $10^{12}$ and $w_i \\in \\mathcal{V}$ belongs to a vocabulary of words $\\mathcal{V}$. A word $c \\in \\mathcal{V}$ is called *a context* of word $w_i$ if they are found together in the text. More formally, given some measure $L$ of closeness between two words (typical choice is $L=2$), a word $c \\in \\mathcal{V}$ is called a context if $c \\in \\{w_{i-L}, \\dots, w_{i-1}, w_{i+1}, \\dots, w_{i+L} \\}$ Let $\\mathbf{w},\\mathbf{c}\\in\\mathbb{R}^d$ be the *word embeddings* of word $w$ and context $c$, respectively. Assume they are specified by the mapping  $\\Phi:\\mathcal{V}\\rightarrow\\mathbb{R}^d$, so $\\mathbf{w}=\\Phi(w)$. The ultimate goal of SGNS word embedding model is to fit a good mapping $\\Phi$.\n",
    "\n",
    "Let $\\mathcal{D}$ be a multiset of all word-contexts pairs observed in the corpus. In the SGNS model, the probability that word-context pair $(w,c)$ is observed in the corpus is modeled as the following distribution:\n",
    "\n",
    "$$\n",
    "P(\\#(w,c)\\neq 0|w,c) = \\sigma(\\mathbf{w}^\\top \\mathbf{c}) = \\frac{1}{1 + \\exp(-\\mathbf{w}^\\top \\mathbf{c})},\n",
    "$$\n",
    "\n",
    "where $\\#(w,c)$ is the number of times the pair $(w,c)$ appears in $\\mathcal{D}$ and $\\mathbf{w}^\\top\\mathbf{c}$ is the scalar product of vectors $\\mathbf{w}$ and $\\mathbf{c}$. Two important quantities which we will also use further are the number of times the word $w$ and the context $c$ appear in $\\mathcal{D}$, which can be computed as\n",
    "\n",
    "$$\n",
    "\\#(w) = \\sum_{c\\in\\mathcal{V}} \\#(w,c), \\quad \\#(c) = \\sum_{w\\in\\mathcal{V}} \\#(w,c).\n",
    "$$\n"
   ]
  },
  {
   "cell_type": "markdown",
   "metadata": {},
   "source": [
    "###### 2. Optimization objective"
   ]
  },
  {
   "cell_type": "markdown",
   "metadata": {},
   "source": [
    "Vanilla word embedding models are trained by maximizing log-likelihood of observed word-context pairs, namely\n",
    "\n",
    "$$\n",
    "\\mathcal{L} = \\sum_{w \\in \\mathcal{V}} \\sum_{c \\in \\mathcal{V}} \\#(w,c) \\log \\sigma(\\mathbf{w}^\\top\\mathbf{c}) \\rightarrow \\max_{\\mathbf{w},\\mathbf{c} \\in \\mathbb{R}^d}.\n",
    "$$"
   ]
  },
  {
   "cell_type": "markdown",
   "metadata": {},
   "source": [
    "Skip-Gram Negative Sampling approach modifies the objective by additionally minimizing the log-likelihood of random word-context pairs, so called *negative samples*. This idea incorporates some useful linguistic information that some number ($k$, usually $k=5$) of word-context pairs *are not* found together in the corpus which usually results in word embeddings of higher quality. The resulting optimization problem is\n",
    "\n",
    "$$\n",
    "\\mathcal{L} = \\sum_{w \\in \\mathcal{V}} \\sum_{c \\in \\mathcal{V}} \\left( \\#(w,c) \\log \\sigma(\\mathbf{w}^\\top\\mathbf{c}) + k \\cdot \\mathbb{E}_{c'\\sim P_\\mathcal{D}} \\log \\sigma (-\\mathbf{w}^\\top\\mathbf{c}) \\right) \\rightarrow \\max_{\\mathbf{w},\\mathbf{c} \\in \\mathbb{R}^d},\n",
    "$$\n",
    "\n",
    "where $P_\\mathcal{D}(c)=\\frac{\\#(c)}{|\\mathcal{D}|}$ is a probability distribution over word contexts from which negative samples are drawn."
   ]
  },
  {
   "cell_type": "markdown",
   "metadata": {},
   "source": [
    "[Levy and Goldberg, 2015](http://papers.nips.cc/paper/5477-neural-word-embedding-as-implicit-matrix-factorization.pdf) showed that this objective can be equivalently written as\n",
    "\n",
    "$$\n",
    "\\mathcal{L} = \\sum_{w \\in \\mathcal{V}} \\sum_{c \\in \\mathcal{V}} f(w,c) = \\sum_{w \\in \\mathcal{V}} \\sum_{c \\in \\mathcal{V}} \\left( \\#(w,c) \\log \\sigma(\\mathbf{w}^\\top\\mathbf{c}) + \\frac{k\\cdot\\#(w)\\cdot\\#(c)}{|\\mathcal{D}|} \\log \\sigma (-\\mathbf{w}^\\top\\mathbf{c}) \\right) \\rightarrow \\max_{\\mathbf{w},\\mathbf{c} \\in \\mathbb{R}^d},\n",
    "$$\n",
    "\n",
    "A crucial observation is that this loss function depends only on the scalar product $\\mathbf{w}^\\top\\mathbf{c}$ but not on embedding $\\mathbf{w}$ and $\\mathbf{c}$ separately."
   ]
  },
  {
   "cell_type": "markdown",
   "metadata": {},
   "source": [
    "###### 3. Matrix factorization problem statement"
   ]
  },
  {
   "cell_type": "markdown",
   "metadata": {},
   "source": [
    "Let $|\\mathcal{V}|=m$, $W \\in \\mathbb{R}^{m\\times d}$ and $C \\in \\mathbb{R}^{m\\times d}$ be matrices, where each row $\\mathbf{w}\\in\\mathbb{R}^d$ of matrix $W$ is the word embedding of the corresponding word $w$ and each row $\\mathbf{c}\\in\\mathbb{R}^d$ of matrix $C$ is the context embedding of the corresponding context $c$. SGNS embeds both words and their contexts into a low-dimensional space $\\mathbb{R}^d$, resulting in the word and context matrices $W$ and $C$. The rows of matrix $W$ are typically used in NLP tasks (such as computing word similarities) while $C$ is ignored. It is nonetheless instructive to consider the product $W^\\top C = M$. Viewed this way, SGNS can be described as factorizing an implicit matrix $M$ of dimensions $m \\times m$ into two smaller matrices.\n",
    "\n",
    "Which matrix is being factorized? A matrix entry $M_{wc}$ corresponds to the dot product $\\mathbf{w}^\\top\\mathbf{c}$ . Thus, SGNS is factorizing a matrix in which each row corresponds to a word $w \\in \\mathcal{V}$ , each column corresponds to a context $c \\in \\mathcal{V}$, and each cell contains a quantity $f(w,c)$ reflecting the strength of association between that particular word-context pair. Such word-context association matrices are very common in the NLP and word-similarity literature. That said, the objective of SGNS does not explicitly state what this association metric is. What can we say about the association function $f(w,c)$? In other words, which matrix is SGNS factorizing? Below you will find the answers."
   ]
  },
  {
   "cell_type": "markdown",
   "metadata": {},
   "source": [
    "### Task 1 (theoretical) 9 pts"
   ]
  },
  {
   "cell_type": "markdown",
   "metadata": {},
   "source": [
    "Solve SGNS optimization problem with respect to the $\\mathbf{w}^\\top\\mathbf{c}$ and show that the matrix being factorized is\n",
    "\n",
    "$$\n",
    "M_{wc} = \\mathbf{w}^\\top\\mathbf{c} = \\log \\left( \\frac{\\#(w,c) \\cdot |\\mathcal{D}|}{k\\cdot\\#(w)\\cdot\\#(c)} \\right)\n",
    "$$\n",
    "\n",
    "**Hint:** Denote $x=\\mathbf{w}^\\top\\mathbf{c}$, rewrite SGNG optimization problem in terms of $x$ and solve it."
   ]
  },
  {
   "cell_type": "markdown",
   "metadata": {},
   "source": [
    "**Note:** This matrix is called Shifted Pointwise Mutual Information (SPMI) matrix, as its elements can be written as\n",
    "\n",
    "$$\n",
    "\\text{SPMI}(w,c) = M_{wc} = \\mathbf{w}^\\top\\mathbf{c} = \\text{PMI}(w,c) - \\log k\n",
    "$$\n",
    "\n",
    "and $\\text{PMI}(w,c) = \\log \\left( \\frac{\\#(w,c) \\cdot |\\mathcal{D}|}{\\#(w)\\cdot\\#(c)} \\right)$ is the well-known [pointwise mutual information](https://en.wikipedia.org/wiki/Pointwise_mutual_information) of $(w,c)$."
   ]
  },
  {
   "cell_type": "code",
   "execution_count": 20,
   "metadata": {},
   "outputs": [],
   "source": [
    "# Your proof is here"
   ]
  },
  {
   "cell_type": "markdown",
   "metadata": {},
   "source": [
    "$$\n",
    "\\mathcal{L} = \\sum_{w \\in \\mathcal{V}} \\sum_{c \\in \\mathcal{V}} f(w,c) = \\sum_{w \\in \\mathcal{V}} \\sum_{c \\in \\mathcal{V}} \\left( \\#(w,c) \\log \\sigma(\\mathbf{w}^\\top\\mathbf{c}) + \\frac{k\\cdot\\#(w)\\cdot\\#(c)}{|\\mathcal{D}|} \\log \\sigma (-\\mathbf{w}^\\top\\mathbf{c}) \\right) \\rightarrow \\max_{\\mathbf{w},\\mathbf{c} \\in \\mathbb{R}^d},\n",
    "$$\n",
    "\n",
    "Let $x = \\mathbf{w}^\\top\\mathbf{c}$\n",
    "\n",
    "$$\n",
    "\\frac{\\mathcal{L}}{\\partial (\\mathbf{w}^\\top\\mathbf{c})} = \\frac{1}{\\partial( \\mathbf{w}^\\top\\mathbf{c})}\\sum_{w \\in \\mathcal{V}} \\sum_{c \\in \\mathcal{V}} f(w,c) = \\frac{1}{\\partial( \\mathbf{w}^\\top\\mathbf{c})}\\sum_{w \\in \\mathcal{V}} \\sum_{c \\in \\mathcal{V}} \\left( \\#(w,c) \\log \\sigma(\\mathbf{w}^\\top\\mathbf{c}) + \\frac{k\\cdot\\#(w)\\cdot\\#(c)}{|\\mathcal{D}|} \\log \\sigma (-\\mathbf{w}^\\top\\mathbf{c}) \\right) = \n",
    "$$\n",
    "\n",
    "$$\n",
    "= \\frac{1}{\\partial( \\mathbf{w}^\\top\\mathbf{c})}\\left( \\#(w,c) \\log \\sigma(\\mathbf{w}^\\top\\mathbf{c}) + \\frac{k\\cdot\\#(w)\\cdot\\#(c)}{|\\mathcal{D}|} \\log \\sigma (-\\mathbf{w}^\\top\\mathbf{c}) \\right) = \\#(w,c) (1-\\sigma(\\mathbf{w}^\\top\\mathbf{c})) + \\frac{k\\cdot\\#(w)\\cdot\\#(c)}{|\\mathcal{D}|}(1-\\sigma (-\\mathbf{w}^\\top\\mathbf{c})) =$$\n",
    "\n",
    "$$\n",
    "= \\#(w,c) \\sigma(-\\mathbf{w}^\\top\\mathbf{c}) + \\frac{k\\cdot\\#(w)\\cdot\\#(c)}{|\\mathcal{D}|}\\sigma (\\mathbf{w}^\\top\\mathbf{c}) = 0\n",
    "$$\n",
    "\n",
    "Because $1-\\sigma(x) = 1- \\frac{1}{1+e^{-x}} = \\frac{e^{-x}}{1+e^{-x}} =\\frac{1}{1+e^{x}} = \\sigma(-x)$\n",
    "\n",
    "$$\\#(w,c) \\sigma(-x) + \\frac{k\\cdot\\#(w)\\cdot\\#(c)}{|\\mathcal{D}|}\\sigma (x) = 0$$\n",
    "\n",
    "$$\\#(w,c) \\sigma(-x) + \\frac{k\\cdot\\#(w)\\cdot\\#(c)}{|\\mathcal{D}|}\\sigma (x) \\frac{e^x}{e^x} = 0$$\n",
    "\n",
    "$$\\#(w,c) + \\frac{k\\cdot\\#(w)\\cdot\\#(c)}{|\\mathcal{D}|}e^x = 0$$\n",
    "\n",
    "$$e^x = \\frac{\\#(w,c)|\\mathcal{D}|}{k\\cdot\\#(w)\\cdot\\#(c)} $$\n",
    "\n",
    "$$x = \\mathbf{w}^\\top\\mathbf{c} = \\log\\left(\\frac{\\#(w,c)|\\mathcal{D}|}{k\\cdot\\#(w)\\cdot\\#(c)} \\right)$$"
   ]
  },
  {
   "cell_type": "markdown",
   "metadata": {},
   "source": [
    "### Task 2 (practical) 36 pts"
   ]
  },
  {
   "cell_type": "code",
   "execution_count": 21,
   "metadata": {},
   "outputs": [],
   "source": [
    "import os\n",
    "import numpy as npv\n",
    "from sklearn.metrics.pairwise import cosine_similarity\n",
    "from scipy.sparse.linalg import svds"
   ]
  },
  {
   "cell_type": "markdown",
   "metadata": {},
   "source": [
    "1. Download dataset [enwik8](http://mattmahoney.net/dc/enwik8.zip) of compressed Wikipedia articles and preprocess raw data with Perl script **main_.pl**. This script will clean all unnecessary symbols, make all words to lowercase, and produce only sentences with words. If you are Windows user, you can install [linux subsystem in windows](https://www.microsoft.com/en-us/p/ubuntu-1804-lts/9n9tngvndl3q?activetab=pivot:overviewtab) and run all these bash commands from ubuntu console (it was checked on the Windows and it works). Also, you can just download file from this [link](https://nla.skoltech.ru/homeworks/files/enwik8.txt).\n",
    "```\n",
    "wget http://mattmahoney.net/dc/enwik8.zip\n",
    "unzip enwik8.zip\n",
    "mkdir data\n",
    "perl main_.pl enwik8 > data/enwik8.txt\n",
    "```"
   ]
  },
  {
   "cell_type": "code",
   "execution_count": 22,
   "metadata": {},
   "outputs": [],
   "source": [
    "import re\n",
    "\n",
    "file = open(\"data/enwik8.txt\", \"r\")\n",
    "doclist = [line for line in file]\n",
    "docstr = ''.join(doclist)\n",
    "sentences = re.split(r'[.!?]', docstr)\n",
    "sentences = [sentence.split() for sentence in sentences if len(sentence) > 1]"
   ]
  },
  {
   "cell_type": "code",
   "execution_count": 23,
   "metadata": {},
   "outputs": [
    {
     "data": {
      "text/plain": [
       "889156"
      ]
     },
     "execution_count": 23,
     "metadata": {},
     "output_type": "execute_result"
    }
   ],
   "source": [
    "len(sentences)"
   ]
  },
  {
   "cell_type": "code",
   "execution_count": 24,
   "metadata": {
    "scrolled": true
   },
   "outputs": [
    {
     "name": "stdout",
     "output_type": "stream",
     "text": [
      "['achilles', 'wrath', 'is', 'terrible', 'and', 'he', 'slays', 'many', 'trojan', 'warriors', 'and', 'allies', 'including', 'priam', 's', 'son', 'lycaon', 'whom', 'achilles', 'had', 'previously', 'captured', 'and', 'sold', 'into', 'slavery', 'but', 'who', 'had', 'been', 'returned', 'to', 'troy']\n"
     ]
    }
   ],
   "source": [
    "print(sentences[1249])"
   ]
  },
  {
   "cell_type": "markdown",
   "metadata": {},
   "source": [
    "2. Construct the word vocabulary from the obtained sentences which enumerates words which occur more than $r=200$ times in the corpus."
   ]
  },
  {
   "cell_type": "code",
   "execution_count": 25,
   "metadata": {},
   "outputs": [
    {
     "name": "stderr",
     "output_type": "stream",
     "text": [
      "[nltk_data] Downloading package stopwords to\n",
      "[nltk_data]     /Users/aleksandr.belov/nltk_data...\n",
      "[nltk_data]   Package stopwords is already up-to-date!\n"
     ]
    }
   ],
   "source": [
    "import nltk\n",
    "from nltk.corpus import stopwords\n",
    "\n",
    "nltk.download('stopwords')\n",
    "en_stopwords = stopwords.words('english')"
   ]
  },
  {
   "cell_type": "code",
   "execution_count": 26,
   "metadata": {},
   "outputs": [],
   "source": [
    "from collections import Counter\n",
    "\n",
    "\n",
    "def update_counter(cnt, text):\n",
    "    is_correct_word = lambda w: w not in en_stopwords and len(w) > 2\n",
    "    text_clear = [word for word in text if is_correct_word(word)]\n",
    "    \n",
    "    cnt.update(text_clear)\n",
    "\n",
    "\n",
    "def count_words(sentences):\n",
    "    cnt = Counter()\n",
    "\n",
    "    for i, text in enumerate(sentences):\n",
    "        update_counter(cnt, text)\n",
    "        \n",
    "        if i % 100000 == 0 or i == len(sentences) - 1:\n",
    "            print(f'{100*(i+1)/(len(sentences) + 1):.1f}%')\n",
    "            print('\\tCounter size:', len(cnt))\n",
    "\n",
    "    return cnt\n",
    "\n",
    "\n",
    "def create_vocabulary(sentences, r=200):\n",
    "    # Your code is here\n",
    "\n",
    "    cnt = count_words(sentences)\n",
    "    \n",
    "    ind2word = [w for w, n in cnt.items() if n > r]\n",
    "    word2ind = {w:i for i, w in enumerate(ind2word)}\n",
    "\n",
    "    return ind2word, word2ind"
   ]
  },
  {
   "cell_type": "code",
   "execution_count": 27,
   "metadata": {
    "scrolled": false
   },
   "outputs": [
    {
     "name": "stdout",
     "output_type": "stream",
     "text": [
      "0.0%\n",
      "\tCounter size: 17\n",
      "11.2%\n",
      "\tCounter size: 63178\n",
      "22.5%\n",
      "\tCounter size: 93699\n",
      "33.7%\n",
      "\tCounter size: 115412\n",
      "45.0%\n",
      "\tCounter size: 135570\n",
      "56.2%\n",
      "\tCounter size: 152893\n",
      "67.5%\n",
      "\tCounter size: 170875\n",
      "78.7%\n",
      "\tCounter size: 185851\n",
      "90.0%\n",
      "\tCounter size: 200573\n",
      "100.0%\n",
      "\tCounter size: 212468\n",
      "CPU times: user 23.1 s, sys: 90.1 ms, total: 23.2 s\n",
      "Wall time: 23.3 s\n"
     ]
    }
   ],
   "source": [
    "%%time\n",
    "ind2word, word2ind = create_vocabulary(sentences)"
   ]
  },
  {
   "cell_type": "markdown",
   "metadata": {},
   "source": [
    "3. Scan the text corpus with sliding window of size $5$ and step $1$ (which corresponds to $L$=2) and construct co-occurrence word-context matrix $D$ with elements $D_{wc}=\\#(w,c)$. Please, ignore words which occur less than $r=200$ times, but include them into the sliding window. Please, see the graphical illustration of the procedure described."
   ]
  },
  {
   "cell_type": "markdown",
   "metadata": {},
   "source": [
    "![Sliding window](sliding_window.png)"
   ]
  },
  {
   "cell_type": "code",
   "execution_count": 28,
   "metadata": {},
   "outputs": [],
   "source": [
    "def update_D(D, context_indexes, i):\n",
    "    for j in context_indexes:\n",
    "        ij = (i, j)\n",
    "        if ij in D:\n",
    "            D[ij] += 1\n",
    "        else:\n",
    "            D[ij] = 1\n",
    "\n",
    "\n",
    "def get_contexts(text, L):\n",
    "    n = len(text)\n",
    "    context_per_word = lambda i: text[max(0, i-L):i] + text[i+1: min(n, i+L+1)]\n",
    "    return (context_per_word(i) for i in range(len(text)))\n",
    "\n",
    "\n",
    "def create_corpus_matrix(sentences, word2ind, L=2):\n",
    "\n",
    "    D = dict()\n",
    "\n",
    "    for text in sentences:\n",
    "        contexts = get_contexts(text, L)\n",
    "\n",
    "        word_contexts = zip(text, contexts)\n",
    "        word_contexts = filter(lambda x: x[0] in word2ind, word_contexts)\n",
    "        ind_contexts = map(lambda x: (word2ind[x[0]], x[1]), word_contexts)\n",
    "\n",
    "        for i, context in ind_contexts:\n",
    "            context = filter(lambda x: x in word2ind, context)\n",
    "            context_indexes = map(lambda x: word2ind[x], context)\n",
    "            update_D(D, context_indexes, i)\n",
    "\n",
    "    data = np.array([(i, j, v) for (i, j), v in D.items()])\n",
    "    words_i = [i for i, *_ in data]\n",
    "    context_j = [j for _, j, _ in data]\n",
    "    count = [c for *_, c in data]\n",
    "\n",
    "    n = len(word2ind)\n",
    "    corpus_matrix = coo_matrix((count, (words_i, context_j)), shape=(n, n))\n",
    "\n",
    "    return corpus_matrix"
   ]
  },
  {
   "cell_type": "code",
   "execution_count": 29,
   "metadata": {},
   "outputs": [
    {
     "name": "stdout",
     "output_type": "stream",
     "text": [
      "CPU times: user 31.3 s, sys: 374 ms, total: 31.7 s\n",
      "Wall time: 31.7 s\n"
     ]
    },
    {
     "data": {
      "text/plain": [
       "(5516, 5516)"
      ]
     },
     "execution_count": 29,
     "metadata": {},
     "output_type": "execute_result"
    }
   ],
   "source": [
    "%%time\n",
    "D = create_corpus_matrix(sentences, word2ind)\n",
    "D.shape"
   ]
  },
  {
   "cell_type": "markdown",
   "metadata": {},
   "source": [
    "4. To find good word embeddings, [Levy and Goldberg, 2015](http://papers.nips.cc/paper/5477-neural-word-embedding-as-implicit-matrix-factorization.pdf) proposed to find rank-$d$ SVD of Shifted Positive Pointwise Mutual Information (SPPMI) matrix\n",
    "\n",
    "$$ U \\Sigma V^\\top \\approx \\text{SPPMI}, $$\n",
    "\n",
    "where $\\text{SPPMI}(w, c) = \\max\\left(\\text{SPMI}(w, c), 0 \\right)$ and $\\text{SPMI}(w, c)$ is the element of the matrix $\\text{SPPMI}$ at position $(w, c)$.\n",
    "Then use $W=U\\sqrt{\\Sigma}$ as word embedding matrix. Your task is to reproduce their results. Write function constructs $\\text{SPPMI}$ matrix, computes its SVD and produces word-vectors matrix $W$. Pay attention that $\\text{SPPMI}$ matrix is **sparse**!  "
   ]
  },
  {
   "cell_type": "code",
   "execution_count": 30,
   "metadata": {},
   "outputs": [],
   "source": [
    "def compute_sppmi_matrix(D, k):\n",
    "    wc_norm = D.sum()\n",
    "    context_sum = np.asarray(D.sum(axis=0)).flatten() / wc_norm\n",
    "    word_sum = np.asarray(D.sum(axis=1)).flatten() / wc_norm\n",
    "\n",
    "    words_i = D.row\n",
    "    contexts_j = D.col\n",
    "    cnts = D.data\n",
    "    sppmi_values = []\n",
    "\n",
    "    for i, j, cnt in zip(words_i, contexts_j, cnts):\n",
    "        pwc = cnt / wc_norm\n",
    "        pc = context_sum[j]\n",
    "        pw = word_sum[i]\n",
    "        pmi = np.log(pwc*len(words_i)/(pw*pc))\n",
    "        sppmi = max(pmi - np.log(k), 0)\n",
    "        sppmi_values.append(sppmi)\n",
    "\n",
    "    sppmi_matrix = coo_matrix((sppmi_values, (words_i, contexts_j)), shape=D.shape)\n",
    "    return sppmi_matrix\n",
    "\n",
    "\n",
    "def compute_embeddings(D, k, d=200):\n",
    "    sppmi_matrix = compute_sppmi_matrix(D, k)\n",
    "\n",
    "    u, s, vt = svds(sppmi_matrix, d)\n",
    "    embedding_matrix = u @ np.diag(s)\n",
    "\n",
    "    return embedding_matrix"
   ]
  },
  {
   "cell_type": "code",
   "execution_count": 31,
   "metadata": {},
   "outputs": [
    {
     "name": "stdout",
     "output_type": "stream",
     "text": [
      "CPU times: user 26.2 s, sys: 163 ms, total: 26.3 s\n",
      "Wall time: 18.6 s\n"
     ]
    },
    {
     "data": {
      "text/plain": [
       "(5516, 200)"
      ]
     },
     "execution_count": 31,
     "metadata": {},
     "output_type": "execute_result"
    }
   ],
   "source": [
    "%%time\n",
    "k = 5 # negative sampling parameter\n",
    "W = compute_embeddings(D, k)\n",
    "W.shape"
   ]
  },
  {
   "cell_type": "markdown",
   "metadata": {},
   "source": [
    "5. Write class **WordVectors** using provided template."
   ]
  },
  {
   "cell_type": "code",
   "execution_count": 32,
   "metadata": {},
   "outputs": [],
   "source": [
    "from scipy.spatial.distance import cosine\n",
    "\n",
    "\n",
    "class WordVectors:\n",
    "\n",
    "    def __init__(self, ind2word, word2ind, embedding_matrix):\n",
    "        self.ind2word = ind2word\n",
    "        self.word2ind = word2ind\n",
    "        self.W = embedding_matrix\n",
    "\n",
    "    def word_vector(self, word):\n",
    "        \"\"\" \n",
    "        Takes word and returns its word vector.\n",
    "        \"\"\"\n",
    "        # Your code is here\n",
    "        if word in self.word2ind:\n",
    "            ind = self.word2ind[word]\n",
    "            return self.W[ind]\n",
    "        else:\n",
    "            return np.zeros(self.W.shape[1])\n",
    "\n",
    "    def nearest_words(self, word, top_n=10):\n",
    "        \"\"\" \n",
    "        Takes word from the vocabulary and returns its top_n\n",
    "        nearest neighbors in terms of cosine similarity.\n",
    "        \"\"\"\n",
    "        # Your code is here\n",
    "\n",
    "        vector = self.word_vector(word)\n",
    "\n",
    "        cosines = [1 - cosine(w, vector) for w in self.W]\n",
    "        indexes = np.argsort(cosines)[-top_n-1:-1]\n",
    "        neighbors = {self.ind2word[i]:cosines[i] for i in reversed(indexes)}\n",
    "\n",
    "        return neighbors"
   ]
  },
  {
   "cell_type": "code",
   "execution_count": 33,
   "metadata": {},
   "outputs": [],
   "source": [
    "model = WordVectors(ind2word, word2ind, W)"
   ]
  },
  {
   "cell_type": "code",
   "execution_count": 34,
   "metadata": {},
   "outputs": [
    {
     "data": {
      "text/plain": [
       "{'capitalism': 0.7596801467459834,\n",
       " 'liberalism': 0.7484303387227764,\n",
       " 'anarchist': 0.7204323322117776,\n",
       " 'socialism': 0.7034444846839171,\n",
       " 'fascism': 0.6988221088677449,\n",
       " 'communism': 0.6779305891207147,\n",
       " 'radical': 0.6643443360700727,\n",
       " 'anarcho': 0.6630309948395315,\n",
       " 'liberal': 0.659874186231,\n",
       " 'feminist': 0.6558154875954912}"
      ]
     },
     "execution_count": 34,
     "metadata": {},
     "output_type": "execute_result"
    }
   ],
   "source": [
    "model.nearest_words(\"anarchism\")"
   ]
  },
  {
   "cell_type": "code",
   "execution_count": 35,
   "metadata": {},
   "outputs": [
    {
     "data": {
      "text/plain": [
       "{'vietnam': 0.6950387469939816,\n",
       " 'korea': 0.6623619980964724,\n",
       " 'ukraine': 0.6608276171971904,\n",
       " 'hungary': 0.6480243479528389,\n",
       " 'russia': 0.6473204053619507,\n",
       " 'italy': 0.6447892386203238,\n",
       " 'taiwan': 0.6398030767033053,\n",
       " 'iraq': 0.6391230834396577,\n",
       " 'austria': 0.6389886813073672,\n",
       " 'netherlands': 0.6386244151574694}"
      ]
     },
     "execution_count": 35,
     "metadata": {},
     "output_type": "execute_result"
    }
   ],
   "source": [
    "model.nearest_words(\"ussr\")"
   ]
  },
  {
   "cell_type": "code",
   "execution_count": 36,
   "metadata": {},
   "outputs": [
    {
     "data": {
      "text/plain": [
       "{'hop': 0.8122144796681435,\n",
       " 'hip': 0.8101007207026203,\n",
       " 'pop': 0.78423818904467,\n",
       " 'funk': 0.7838229101502986,\n",
       " 'jazz': 0.7746701789053898,\n",
       " 'punk': 0.7647113649332554,\n",
       " 'blues': 0.7406416178112537,\n",
       " 'folk': 0.7380135272174456,\n",
       " 'musicians': 0.7092020940974968,\n",
       " 'singers': 0.7053388274521263}"
      ]
     },
     "execution_count": 36,
     "metadata": {},
     "output_type": "execute_result"
    }
   ],
   "source": [
    "model.nearest_words(\"rap\")"
   ]
  },
  {
   "cell_type": "markdown",
   "metadata": {},
   "source": [
    "6. Calculate top 10 nearest neighbours with the corresponding cosine similarities for the words {matrix, multiplication, algorithm} and print them below"
   ]
  },
  {
   "cell_type": "code",
   "execution_count": 37,
   "metadata": {},
   "outputs": [
    {
     "data": {
      "text/plain": [
       "{'linear': 0.7255875840047358,\n",
       " 'finite': 0.7127573880892324,\n",
       " 'geometric': 0.7077176382394882,\n",
       " 'infinite': 0.7024711892416842,\n",
       " 'integral': 0.7024645042325403,\n",
       " 'graph': 0.7015288353078647,\n",
       " 'dimensional': 0.693477445826649,\n",
       " 'binary': 0.6918374963956275,\n",
       " 'multiplication': 0.6902770928503044,\n",
       " 'spaces': 0.6885964075041318}"
      ]
     },
     "execution_count": 37,
     "metadata": {},
     "output_type": "execute_result"
    }
   ],
   "source": [
    "model.nearest_words('matrix')"
   ]
  },
  {
   "cell_type": "code",
   "execution_count": 38,
   "metadata": {},
   "outputs": [
    {
     "data": {
      "text/plain": [
       "{'linear': 0.7162532231361547,\n",
       " 'arithmetic': 0.7103864130012996,\n",
       " 'inverse': 0.7036410625391738,\n",
       " 'integer': 0.6916327882711675,\n",
       " 'matrix': 0.6902770928503044,\n",
       " 'algebra': 0.6901892723306351,\n",
       " 'polynomial': 0.6893920715478937,\n",
       " 'binary': 0.682566239137245,\n",
       " 'finite': 0.6782796923015898,\n",
       " 'integers': 0.6772012193906684}"
      ]
     },
     "execution_count": 38,
     "metadata": {},
     "output_type": "execute_result"
    }
   ],
   "source": [
    "model.nearest_words('multiplication')"
   ]
  },
  {
   "cell_type": "code",
   "execution_count": 39,
   "metadata": {},
   "outputs": [
    {
     "data": {
      "text/plain": [
       "{'algorithms': 0.7579130921870922,\n",
       " 'method': 0.7411149805163008,\n",
       " 'equation': 0.726350413572611,\n",
       " 'theorem': 0.7236348390992077,\n",
       " 'calculation': 0.7130459002126744,\n",
       " 'function': 0.7129026276107703,\n",
       " 'curve': 0.7073093806342047,\n",
       " 'methods': 0.703958183071381,\n",
       " 'error': 0.7029796717275989,\n",
       " 'binary': 0.6967329798785743}"
      ]
     },
     "execution_count": 39,
     "metadata": {},
     "output_type": "execute_result"
    }
   ],
   "source": [
    "model.nearest_words('algorithm')"
   ]
  },
  {
   "cell_type": "markdown",
   "metadata": {},
   "source": [
    "# Problem 4 (eigenvalues)  45 pts\n",
    "\n",
    "### 1. Theoretical tasks (10 pts)\n",
    "\n",
    "* (5 pts) Prove that normal matrix is Hermitian iff its eigenvalues are real. Prove that normal matrix is unitary iff its eigenvalues satisfy $|\\lambda| = 1$. \n",
    "\n",
    "* (5 pts) The following problem illustrates instability of the Jordan form. Find theoretically the eigenvalues of the perturbed Jordan block:\n",
    "\n",
    "$$\n",
    "    J(\\varepsilon) = \n",
    "    \\begin{bmatrix} \n",
    "     \\lambda & 1 & & & 0 \\\\ \n",
    "     & \\lambda & 1 & & \\\\ \n",
    "     &  & \\ddots & \\ddots & \\\\ \n",
    "     & & & \\lambda & 1 \\\\ \n",
    "     \\varepsilon & & & & \\lambda  \\\\ \n",
    "    \\end{bmatrix}_{n\\times n}\n",
    "$$\n",
    "\n",
    "Comment how eigenvalues of $J(0)$ are perturbed for large $n$."
   ]
  },
  {
   "cell_type": "code",
   "execution_count": 40,
   "metadata": {},
   "outputs": [],
   "source": [
    "# Your solution is here"
   ]
  },
  {
   "cell_type": "markdown",
   "metadata": {},
   "source": [
    "### 1.1\n",
    "\n",
    "Any normal matrix is diagonalizable, therefor $A = U^*DU$, where $U$ is unitary and $D$ is diagonal matrix with eigenvalues. Let matrix $A$ be a normal $A^*A=AA^*=I$.\n",
    "\n",
    "#### 1.1.1\n",
    "Let's prove that normal matrix is Hermitian iff its eigenvalues are real.\n",
    "\n",
    "1) Let matrix $A$ be a Hermitian. \n",
    "$$A=A^*$$\n",
    "$$U^*DU = (U^*DU)^* = U^*D^*U$$\n",
    "$D = D^*$ is possible iff the eigenvalues are real.\n",
    "\n",
    "2) Let all eigenvalues of matrix A are real then\n",
    "$$D = D*$$\n",
    "$$A = U^*DU = U^*D^*U = (U^*DU)^* = A^*$$\n",
    "So matrix $A$ is Hermitian.\n",
    "\n",
    "#### 1.1.2\n",
    "Let's prove that normal matrix is unitary iff its eigenvalues satisfy $|\\lambda|=1$.\n",
    "\n",
    "1) Let matrix A be an unitary.\n",
    "$$AA^* = U^*DD^*U = I$$\n",
    "$$UU^*DD^*UU^* = UU^* = I$$\n",
    "$$DD^* = I$$\n",
    "It means that $\\lambda_i\\overline{\\lambda}_i = 1$ where $\\overline{\\lambda}$ is complex conjugate of $\\lambda$. Then $|\\lambda_i| = 1$.\n",
    "\n",
    "2) Let all eigenvalues of matrix $A$ satisfy $|\\lambda|=1$.\n",
    "$$AA^* = U^*DD^*U = U^*IU = I$$\n",
    "$$A^*A = U^*D^*DU = U^*IU = I$$\n",
    "So $A^* = A^{-1}$ then the matrix $A$ is unitary."
   ]
  },
  {
   "cell_type": "markdown",
   "metadata": {},
   "source": [
    "### 1.2\n",
    "$$\n",
    "    det(J(\\varepsilon) - \\tilde{\\lambda}I) = \n",
    "    \\begin{vmatrix} \n",
    "     \\lambda-\\tilde{\\lambda} & 1 & & & 0 \\\\ \n",
    "     & \\lambda-\\tilde{\\lambda} & 1 & & \\\\ \n",
    "     &  & \\ddots & \\ddots & \\\\ \n",
    "     & & & \\lambda-\\tilde{\\lambda} & 1 \\\\ \n",
    "     \\varepsilon & & & & \\lambda-\\tilde{\\lambda}  \\\\ \n",
    "    \\end{vmatrix}_{n\\times n} = (\\lambda-\\tilde{\\lambda})^n + (-1)^{n+1}\\varepsilon \n",
    "    \\begin{vmatrix} \n",
    "     1 &  & & & 0 \\\\ \n",
    "     \\lambda-\\tilde{\\lambda}& 1 &  & & \\\\ \n",
    "     & \\lambda-\\tilde{\\lambda} & \\ddots &  & \\\\ \n",
    "     & &\\ddots & 1 &  \\\\ \n",
    "     & & & \\lambda-\\tilde{\\lambda}& 1  \\\\ \n",
    "    \\end{vmatrix}_{n-1\\times n-1} = $$\n",
    "    \n",
    "### $$ = (\\lambda-\\tilde{\\lambda})^n + (-1)^{n+1}\\varepsilon = 0 $$\n",
    "\n",
    "### $$(\\lambda-\\tilde{\\lambda})^n = (-1)^{n}\\varepsilon$$\n",
    "\n",
    "### $$(-1)^n(\\tilde{\\lambda}-\\lambda)^n = (-1)^{n}\\varepsilon$$\n",
    "\n",
    "### $$\\tilde{\\lambda} = \\lambda + \\sqrt[n]{\\varepsilon}$$\n",
    "\n",
    "### $$\\tilde{\\lambda} = \\lambda + \\sqrt[n]{\\varepsilon}e^{i2\\pi k/n}$$\n",
    "                \n",
    "$$ k = 0, \\dots, n-1$$\n",
    "\n",
    "\n",
    "The eigenvalues of $J(0)$ are $\\tilde{\\lambda_k} = \\lambda$  for  $k = 0, \\dots, n-1$ which is stable for calculating."
   ]
  },
  {
   "cell_type": "code",
   "execution_count": 41,
   "metadata": {},
   "outputs": [
    {
     "name": "stdout",
     "output_type": "stream",
     "text": [
      "OK!\n"
     ]
    }
   ],
   "source": [
    "#Let's check it\n",
    "n = 100\n",
    "lambd = 1.1\n",
    "eps = 1e-3\n",
    "\n",
    "J = lambd*np.eye(n) + np.diag(np.ones(n-1), k=1)\n",
    "J[-1, 0] = eps\n",
    "\n",
    "np_eigs = LA.eigvals(J)\n",
    "my_eigs = [lambd + eps**(1/n)*complex(np.cos((2*np.pi*k)/n), np.sin((2*np.pi*k)/n)) for k in range(n)]\n",
    "\n",
    "assert np.isclose(LA.norm(np_eigs), LA.norm(my_eigs)), 'Wrong eigenvalues'\n",
    "print('OK!')"
   ]
  },
  {
   "cell_type": "markdown",
   "metadata": {},
   "source": [
    "### 2. PageRank\n",
    "\n",
    "\n",
    "#### Damping factor importance\n",
    "\n",
    "* (5 pts) Write the function ```pagerank_matrix(G)``` that takes an adjacency matrix $G$ (in both sparse and dense formats) as an input and outputs the corresponding PageRank matrix $A$."
   ]
  },
  {
   "cell_type": "code",
   "execution_count": 42,
   "metadata": {},
   "outputs": [],
   "source": [
    "from scipy.sparse import csr_matrix"
   ]
  },
  {
   "cell_type": "code",
   "execution_count": 43,
   "metadata": {},
   "outputs": [
    {
     "data": {
      "text/plain": [
       "array([102.30157476, 100.94854621,  93.70724633, 101.95335632,\n",
       "        95.58136602, 102.51663215,  97.44968549,  99.95853211,\n",
       "       100.93237403, 101.26472742, 100.78357042, 103.40506861,\n",
       "       100.19187852, 104.9275955 , 109.07741498, 103.60986509,\n",
       "       101.61609658, 100.43881279,  96.39805223, 109.75859304,\n",
       "        96.50281428, 104.1073454 ,  98.31814194, 105.13515816,\n",
       "        95.46691053,  99.7219182 ,  92.94465088, 105.84478607,\n",
       "       103.33208573,  97.96841286, 103.53556447,  99.64775405,\n",
       "       106.649639  ,  91.66052882, 103.41312535, 104.58847224,\n",
       "       100.51535508,  99.62288571, 100.64211778,  98.23509742,\n",
       "        96.67357637,  99.84491537,  97.02822534,  95.87624185,\n",
       "        97.27638112, 100.79924966,  94.95595146,  92.45184468,\n",
       "       103.49282006, 101.06949494,  98.62064406, 105.23615867,\n",
       "        94.00518515, 103.10608943, 100.47276066,  98.66038681,\n",
       "       102.9891527 ,  99.15958859,  98.94049476, 100.08580479,\n",
       "        98.29249482, 103.99736917, 101.30858377,  99.31995776,\n",
       "       102.72017802, 109.43181848, 101.27552529, 100.99007977,\n",
       "        91.31430935, 108.18955537,  93.78335076, 102.49175525,\n",
       "       103.63115735,  99.17889931, 100.38215641,  88.53895546,\n",
       "        96.4490237 ,  98.99912234, 101.22727723,  99.08351368,\n",
       "       100.67755261, 103.38833634, 106.59581451,  94.67429372,\n",
       "        99.28522643, 107.72700487,  99.41701264,  99.42988465,\n",
       "       100.53077874,  95.94518883, 102.34165338, 100.95645863,\n",
       "       100.87630274, 101.26003055, 102.66497398,  93.65628469,\n",
       "       103.85707565,  96.40613767, 100.23592475, 102.6600284 ])"
      ]
     },
     "execution_count": 43,
     "metadata": {},
     "output_type": "execute_result"
    }
   ],
   "source": [
    "sum_of_rows = np.asarray(A.sum(axis=0)).flatten()\n",
    "sum_of_rows"
   ]
  },
  {
   "cell_type": "code",
   "execution_count": 48,
   "metadata": {},
   "outputs": [],
   "source": [
    "# INPUT:  G - np.ndarray or sparse matrix\n",
    "# OUTPUT: A - np.ndarray (of size G.shape) or sparse matrix\n",
    "def pagerank_matrix(G):\n",
    "    # enter your code here\n",
    "\n",
    "    A = G.copy() \n",
    "    sum_of_rows = np.asarray(A.sum(axis=1)).flatten()\n",
    "\n",
    "    if issparse(A):\n",
    "        ia = A.indptr\n",
    "        ja = A.indices\n",
    "        sa = A.data\n",
    "    \n",
    "        for i in range(A.shape[0]):\n",
    "            \n",
    "            ind_range = np.arange(ia[i], ia[i+1])\n",
    "            if sum_of_rows[i]:\n",
    "                sa[ind_range] = sa[ind_range] / sum_of_rows[i]\n",
    "\n",
    "        A = A.T\n",
    "\n",
    "    else:\n",
    "        A = A.T / sum_of_rows\n",
    "\n",
    "    return A"
   ]
  },
  {
   "cell_type": "markdown",
   "metadata": {},
   "source": [
    "* (3 pts) Find PageRank matrix $A$ that corresponds to the following graph: <img src=\"graph.png\" width='250'>\n",
    "What is its largest eigenvalue? What multiplicity does it have?"
   ]
  },
  {
   "cell_type": "code",
   "execution_count": 49,
   "metadata": {},
   "outputs": [
    {
     "name": "stdout",
     "output_type": "stream",
     "text": [
      "[[0.  0.  0.5 0.  0. ]\n",
      " [1.  0.  0.5 0.  0. ]\n",
      " [0.  1.  0.  0.  0. ]\n",
      " [0.  0.  0.  0.  1. ]\n",
      " [0.  0.  0.  1.  0. ]]\n",
      "\n",
      "OK!\n"
     ]
    },
    {
     "data": {
      "text/plain": [
       "array([0.70710678, 0.70710678, 1.        , 1.        , 1.        ])"
      ]
     },
     "execution_count": 49,
     "metadata": {},
     "output_type": "execute_result"
    }
   ],
   "source": [
    "G = [[0, 1, 0, 0, 0],\n",
    "     [0, 0, 1, 0, 0],\n",
    "     [1, 1, 0, 0, 0],\n",
    "     [0, 0, 0, 0, 1],\n",
    "     [0, 0, 0, 1, 0]\n",
    "    ]\n",
    "G = np.asarray(G, dtype=np.float64)\n",
    "G_sparse = csr_matrix(G)\n",
    "\n",
    "A = pagerank_matrix(G)\n",
    "A_sparse = pagerank_matrix(G_sparse)\n",
    "print(A)\n",
    "\n",
    "assert issparse(A_sparse), 'PageRank matrix is not sparce'\n",
    "assert np.isclose(A, A_sparse.toarray()).all(), 'Wrong result'\n",
    "#assert np.isclose(A.sum(axis=0),\n",
    "print('\\nOK!')\n",
    "\n",
    "np.abs(LA.eigvals(A))"
   ]
  },
  {
   "cell_type": "markdown",
   "metadata": {},
   "source": [
    "* (5 pts) Implement the power method for a given matrix $A$, an initial guess $x_0$ and a number of iterations ```num_iter```. It should be organized as a function ```power_method(A, x0, num_iter)``` that outputs approximation to eigenvector $x$, eigenvalue $\\lambda$ and history of residuals $\\{\\|Ax_k - \\lambda_k x_k\\|_2\\}$. Make sure that the method converges to the correct solution on a matrix $\\begin{bmatrix} 2 & -1 \\\\ -1 & 2 \\end{bmatrix}$ which is known to have the largest eigenvalue equal to $3$."
   ]
  },
  {
   "cell_type": "code",
   "execution_count": 85,
   "metadata": {},
   "outputs": [],
   "source": [
    "# INPUT:  A - np.ndarray (2D), x0 - np.ndarray (1D), num_iter - integer (positive) \n",
    "# OUTPUT: x - np.ndarray (of size x0), l - float, res - np.ndarray (of size num_iter + 1 [include initial guess])\n",
    "def power_method(A, x0, num_iter, ls=False): # 5 pts\n",
    "    # enter your code here\n",
    "    res = np.zeros(num_iter)\n",
    "    if ls:\n",
    "        lambdas = np.zeros(num_iter)\n",
    "    x0 /= LA.norm(x0)\n",
    "\n",
    "    for i in range(num_iter):\n",
    "        x = A @ x0\n",
    "        l = x @ x0\n",
    "        \n",
    "        res[i] = LA.norm(x - l*x0)\n",
    "        x0 = x / LA.norm(x)\n",
    "\n",
    "        if ls:\n",
    "            lambdas[i] = l\n",
    "    if ls:\n",
    "        return x0, l, res, lambdas\n",
    "    else:\n",
    "        return x0, l, res"
   ]
  },
  {
   "cell_type": "code",
   "execution_count": 86,
   "metadata": {},
   "outputs": [
    {
     "name": "stdout",
     "output_type": "stream",
     "text": [
      "[ 0.70710678 -0.70710678]\n",
      "3.0\n",
      "[4.37392716e-01 9.35320897e-01 7.82739447e-01 3.13538990e-01\n",
      " 1.06908929e-01 3.57273140e-02 1.19124848e-02 3.97095348e-03\n",
      " 1.32365580e-03 4.41218771e-04 1.47072930e-04 4.90243103e-05\n",
      " 1.63414368e-05 5.44714559e-06 1.81571520e-06 6.05238399e-07\n",
      " 2.01746133e-07 6.72487108e-08 2.24162370e-08 7.47207912e-09\n",
      " 2.49069293e-09 8.30230978e-10 2.76743555e-10 9.22476422e-11\n",
      " 3.07493187e-11 1.02495636e-11 3.41652119e-12 1.13894511e-12\n",
      " 3.79962894e-13 1.26235434e-13 4.20784779e-14 1.41343208e-14\n",
      " 4.44089210e-15 1.88411095e-15 6.28036983e-16 0.00000000e+00\n",
      " 0.00000000e+00 0.00000000e+00 0.00000000e+00 0.00000000e+00]\n"
     ]
    }
   ],
   "source": [
    "B = np.array([[2, -1], [-1, 2]])\n",
    "\n",
    "num_iter = 100\n",
    "x0 = 0.1 * np.random.rand(B.shape[0])\n",
    "v, l, res = power_method(B, x0, num_iter)\n",
    "print(v, l, res[:40], sep='\\n')"
   ]
  },
  {
   "cell_type": "markdown",
   "metadata": {},
   "source": [
    "* (2 pts) Run the power method for the graph presented above and plot residuals $\\|Ax_k - \\lambda_k x_k\\|_2$ as a function of $k$ for ```num_iter=100``` and random initial guess ```x0```.  Explain the absence of convergence. "
   ]
  },
  {
   "cell_type": "code",
   "execution_count": 94,
   "metadata": {},
   "outputs": [
    {
     "name": "stdout",
     "output_type": "stream",
     "text": [
      "[0.29887491 0.59774981 0.59774981 0.41302643 0.15960353]\n",
      "0.9357768320338935\n",
      "[0.89729425 0.5656798  0.52126858 0.44397257 0.4350345  0.40776588\n",
      " 0.35227954 0.36312689 0.36154881 0.35188072 0.35556109 0.35241092\n",
      " 0.35252    0.35360769 0.35203943 0.35279225 0.35274701 0.35239227\n",
      " 0.35274293 0.35255265 0.35256283 0.35264631 0.35255607 0.35260351\n",
      " 0.35260089 0.3525797  0.3526021  0.35259023 0.35259088 0.35259616\n",
      " 0.35259055 0.35259351 0.35259335 0.35259203 0.35259343 0.35259269\n",
      " 0.35259273 0.35259306 0.35259271 0.3525929 ]\n"
     ]
    }
   ],
   "source": [
    "num_iter = 100\n",
    "x0 = np.random.rand(A.shape[0])\n",
    "v, l, res, lambdas = power_method(A, x0, num_iter, True)\n",
    "print(v, l, res[:40], sep='\\n')"
   ]
  },
  {
   "cell_type": "code",
   "execution_count": 95,
   "metadata": {},
   "outputs": [
    {
     "data": {
      "image/png": "[encoded data removed]",
      "text/plain": [
       "<Figure size 1296x576 with 1 Axes>"
      ]
     },
     "metadata": {
      "needs_background": "light"
     },
     "output_type": "display_data"
    }
   ],
   "source": [
    "import matplotlib.pyplot as plt\n",
    "\n",
    "plt.figure(figsize=(18, 8))\n",
    "plt.plot(res, 'b', label=r'$\\|Ax_k - \\lambda_k x_k\\|_2$')\n",
    "    \n",
    "plt.grid()\n",
    "plt.legend(loc='best', fontsize=18)\n",
    "plt.xlabel('k', fontsize=18)\n",
    "plt.title('History of residuals', fontsize=18)\n",
    "plt.xscale('log')\n",
    "plt.show()"
   ]
  },
  {
   "cell_type": "markdown",
   "metadata": {},
   "source": [
    "The convergence ratio should be $\\left|\\frac{\\lambda_2}{\\lambda_1}\\right| < 1$, but for our matrix this doesn't hold! Thehefore the Power-method doesn't converge."
   ]
  },
  {
   "cell_type": "code",
   "execution_count": 96,
   "metadata": {},
   "outputs": [
    {
     "data": {
      "text/plain": [
       "1.2632281299019243"
      ]
     },
     "execution_count": 96,
     "metadata": {},
     "output_type": "execute_result"
    }
   ],
   "source": [
    "lambdas[1] / lambdas[0]"
   ]
  },
  {
   "cell_type": "markdown",
   "metadata": {},
   "source": [
    "* (2 pts) Consider the same graph, but with additional self loop at node 4 (self loop is an edge that connects a vertex with itself). Plot residuals as in the previous task and discuss the convergence. Now, run the power method with ```num_iter=100``` for 10 different initial guesses and print/plot the resulting approximated eigenvectors. Why do they depend on the initial guess?"
   ]
  },
  {
   "cell_type": "code",
   "execution_count": 97,
   "metadata": {},
   "outputs": [],
   "source": [
    "G_2 = G.copy()\n",
    "G_2[4, 4] = 1\n",
    "A_2 = pagerank_matrix(G_2)\n",
    "\n",
    "iters = 10\n",
    "residuals = []\n",
    "\n",
    "for _ in range(iters):\n",
    "    num_iter = 100\n",
    "    x0 = np.random.rand(A_2.shape[0])\n",
    "    v, l, res = power_method(A_2, x0, num_iter)\n",
    "    residuals.append(res)"
   ]
  },
  {
   "cell_type": "code",
   "execution_count": 98,
   "metadata": {},
   "outputs": [
    {
     "data": {
      "image/png": "[encoded data removed]",
      "text/plain": [
       "<Figure size 1296x576 with 1 Axes>"
      ]
     },
     "metadata": {
      "needs_background": "light"
     },
     "output_type": "display_data"
    }
   ],
   "source": [
    "plt.figure(figsize=(18, 8))\n",
    "for i, res in enumerate(residuals):\n",
    "    plt.plot(res, label=fr'$res_{i}$')\n",
    "    \n",
    "plt.grid()\n",
    "plt.legend(loc='best', fontsize=15)\n",
    "plt.xlabel('k', fontsize=18)\n",
    "plt.title('History of residuals with additional self loop', fontsize=18)\n",
    "plt.xscale('log')\n",
    "plt.show()"
   ]
  },
  {
   "cell_type": "markdown",
   "metadata": {},
   "source": [
    "In order to avoid this problem Larry Page and Sergey Brin [proposed](http://ilpubs.stanford.edu:8090/422/1/1999-66.pdf) to use the following regularization technique:\n",
    "\n",
    "$$\n",
    "A_d = dA + \\frac{1-d}{N} \\begin{pmatrix} 1 & \\dots & 1 \\\\ \\vdots & & \\vdots \\\\ 1 & \\dots & 1 \\end{pmatrix},\n",
    "$$\n",
    "\n",
    "where $d$ is a small parameter in $[0,1]$ (typically $d=0.85$), which is called **damping factor**, $A$ is of size $N\\times N$. Now $A_d$ is the matrix with multiplicity of the largest eigenvalue equal to 1. \n",
    "Recall that computing the eigenvector of the PageRank matrix, which corresponds to the largest eigenvalue, has the following interpretation. Consider a person who stays in a random node of a graph (i.e. opens a random web page); at each step s/he follows one of the outcoming edges uniformly at random (i.e. opens one of the links). So the person randomly walks through the graph and the eigenvector we are looking for is exactly his/her stationary distribution â€” for each node it tells you the probability of visiting this particular node. Therefore, if the person has started from a part of the graph which is not connected with the other part, he will never get there.  In the regularized model, the person at each step follows one of the outcoming links with probability $d$ OR teleports to a random node from the whole graph with probability $(1-d)$.\n",
    "\n",
    "* (2 pts) Now, run the power method with $A_d$ and plot residuals $\\|A_d x_k - \\lambda_k x_k\\|_2$ as a function of $k$ for $d=0.97$, ```num_iter=100``` and a random initial guess ```x0```.\n",
    "\n",
    "* (5 pts) Find the second largest in the absolute value eigenvalue of the obtained matrix $A_d$. How and why is it connected to the damping factor $d$? What is the convergence rate of the PageRank algorithm when using damping factor?"
   ]
  },
  {
   "cell_type": "code",
   "execution_count": 99,
   "metadata": {},
   "outputs": [],
   "source": [
    "d = 0.97\n",
    "num_iter = 100\n",
    "N = A.shape[0]\n",
    "\n",
    "Ad = d*A + (1-d)/N * np.ones(A.shape)\n",
    "\n",
    "iters = 10\n",
    "residuals = []\n",
    "\n",
    "for _ in range(iters):\n",
    "    num_iter = 100\n",
    "    x0 = np.random.rand(Ad.shape[0])\n",
    "    v, l, res = power_method(Ad, x0, num_iter)\n",
    "    residuals.append(res)"
   ]
  },
  {
   "cell_type": "code",
   "execution_count": 100,
   "metadata": {},
   "outputs": [
    {
     "data": {
      "image/png": "[encoded data removed]",
      "text/plain": [
       "<Figure size 1296x576 with 1 Axes>"
      ]
     },
     "metadata": {
      "needs_background": "light"
     },
     "output_type": "display_data"
    }
   ],
   "source": [
    "plt.figure(figsize=(18, 8))\n",
    "for i, res in enumerate(residuals):\n",
    "    plt.plot(res, label=fr'$res_{i}$')\n",
    "    \n",
    "plt.grid()\n",
    "plt.legend(loc='best', fontsize=15)\n",
    "plt.xlabel('k', fontsize=18)\n",
    "plt.title('History of residuals with damping factor', fontsize=18)\n",
    "plt.xscale('log')\n",
    "plt.show()"
   ]
  },
  {
   "cell_type": "code",
   "execution_count": 101,
   "metadata": {},
   "outputs": [
    {
     "name": "stdout",
     "output_type": "stream",
     "text": [
      "[0.68589358 0.68589358 1.         0.97       0.97      ]\n"
     ]
    }
   ],
   "source": [
    "Ad_eigs = LA.eigvals(Ad)\n",
    "Ad_eigs_abs = np.abs(Ad_eigs)\n",
    "print(Ad_eigs_abs)"
   ]
  },
  {
   "cell_type": "markdown",
   "metadata": {},
   "source": [
    "- A is left stochastic matrix then has eigenvalues which is equal 1 and we multiply A and d."
   ]
  },
  {
   "cell_type": "markdown",
   "metadata": {},
   "source": [
    "Usually, graphs that arise in various areas are sparse (social, web, road networks, etc.) and, thus, computation of a matrix-vector product for corresponding PageRank matrix $A$ is much cheaper than $\\mathcal{O}(N^2)$. However, if $A_d$ is calculated directly, it becomes dense and, therefore, $\\mathcal{O}(N^2)$ cost grows prohibitively large for  big $N$.\n",
    "\n",
    "\n",
    "* (2 pts) Implement fast matrix-vector product for $A_d$ as a function ```pagerank_matvec(A, d, x)```, which takes a PageRank matrix $A$ (in sparse format, e.g., ```csr_matrix```), damping factor $d$ and a vector $x$ as an input and returns $A_dx$ as an output. \n",
    "\n",
    "* (1 pts) Generate a random adjacency matrix of size $10000 \\times 10000$ with only 100 non-zero elements and compare ```pagerank_matvec``` performance with direct evaluation of $A_dx$."
   ]
  },
  {
   "cell_type": "code",
   "execution_count": 102,
   "metadata": {},
   "outputs": [],
   "source": [
    "# INPUT:  A - np.ndarray (2D), d - float (from 0.0 to 1.0), x - np.ndarray (1D, size of A.shape[0/1])\n",
    "# OUTPUT: y - np.ndarray (1D, size of x)\n",
    "def pagerank_matvec(A, d, x): # 2 pts\n",
    "    # enter your code here\n",
    "    N = A.shape[0]\n",
    "\n",
    "    if issparse(A):\n",
    "        ia = A.indptr\n",
    "        ja = A.indices\n",
    "        sa = A.data\n",
    "\n",
    "        y = np.zeros_like(x)\n",
    "        for i in range(N):\n",
    "            for k in range(ia[i], ia[i+1]):\n",
    "                y[i] += sa[k] * x[ja[k]]\n",
    "\n",
    "        y *= d\n",
    "        y += (1-d)/N * x.sum()\n",
    "\n",
    "    else:\n",
    "        Ad = d*A + (1-d)/N * np.ones(A.shape)\n",
    "        y = np.dot(Ad, x)\n",
    "        \n",
    "    return y"
   ]
  },
  {
   "cell_type": "code",
   "execution_count": 103,
   "metadata": {},
   "outputs": [],
   "source": [
    "n = 10000\n",
    "m = 100\n",
    "d = 0.97\n",
    "\n",
    "array = np.array([1]*m + [0]*(n*n-m))\n",
    "np.random.shuffle(array)\n",
    "\n",
    "random_mat = array.reshape((n, n))\n",
    "random_mat_sparse = csr_matrix(random_mat)\n",
    "x = np.random.rand(n)"
   ]
  },
  {
   "cell_type": "code",
   "execution_count": 104,
   "metadata": {
    "scrolled": true
   },
   "outputs": [
    {
     "name": "stdout",
     "output_type": "stream",
     "text": [
      "CPU times: user 5.45 ms, sys: 330 µs, total: 5.78 ms\n",
      "Wall time: 5.53 ms\n",
      "CPU times: user 1.34 s, sys: 1.48 s, total: 2.82 s\n",
      "Wall time: 2.26 s\n",
      "\n",
      "OK!\n"
     ]
    }
   ],
   "source": [
    "%time sparse_res = pagerank_matvec(random_mat_sparse, d, x)\n",
    "%time res = pagerank_matvec(random_mat, d, x)\n",
    "\n",
    "assert np.isclose(sparse_res, res).all(), 'Wrong sparse matvec product'\n",
    "print('\\nOK!')"
   ]
  },
  {
   "cell_type": "markdown",
   "metadata": {},
   "source": [
    "#### DBLP: computer science bibliography\n",
    "\n",
    "Download the dataset from [here](https://goo.gl/oZVxEa), unzip it and put `dblp_authors.npz`  and `dblp_graph.npz` in the same folder with this notebook. Each value (author name) from `dblp_authors.npz` corresponds to the row/column of the matrix from `dblp_graph.npz`. Value at row `i` and column `j` of the matrix from `dblp_graph.npz` corresponds to the number of times author `i` cited papers of the author `j`. Let us now find the most significant scientists according to PageRank model over DBLP data.\n",
    "\n",
    "* (4 pts) Load the weighted adjacency matrix and the authors list into Python using ```load_dblp(...)``` function. Print its density (fraction of nonzero elements). Find top-10 most cited authors from the weighted adjacency matrix. Now, make all the weights of the adjacency matrix equal to 1 for simplicity (consider only existence of connection between authors, not its weight). Obtain the PageRank matrix $A$ from the adjacency matrix and verify that it is stochastic."
   ]
  },
  {
   "cell_type": "code",
   "execution_count": 105,
   "metadata": {},
   "outputs": [],
   "source": [
    "from scipy.sparse import load_npz\n",
    "import numpy as np\n",
    "def load_dblp(path_auth, path_graph):\n",
    "    G = load_npz(path_graph).astype(float)\n",
    "    with np.load(path_auth) as data: authors = data['authors']\n",
    "    return G, authors\n",
    "\n",
    "G_auth, authors = load_dblp('dblp_authors.npz', 'dblp_graph.npz')"
   ]
  },
  {
   "cell_type": "code",
   "execution_count": 106,
   "metadata": {},
   "outputs": [],
   "source": [
    "# Your code is here"
   ]
  },
  {
   "cell_type": "code",
   "execution_count": 107,
   "metadata": {},
   "outputs": [
    {
     "name": "stdout",
     "output_type": "stream",
     "text": [
      "Density: 4.5e-05\n"
     ]
    }
   ],
   "source": [
    "top = 10\n",
    "print(f'Density: {G_auth.nnz/G_auth.shape[0]/G_auth.shape[1]:.1e}')"
   ]
  },
  {
   "cell_type": "code",
   "execution_count": 108,
   "metadata": {},
   "outputs": [
    {
     "name": "stdout",
     "output_type": "stream",
     "text": [
      "['David G. Lowe' 'David E. Culler' 'Ion Stoica' 'Jitendra Malik'\n",
      " 'Cordelia Schmid' 'Anil K. Jain' 'Jiawei Han' 'Hari Balakrishnan'\n",
      " 'Andrew Zisserman' 'Scott Shenker']\n"
     ]
    }
   ],
   "source": [
    "cited_n = np.asarray(G_auth.sum(axis=0)).flatten()\n",
    "top_ind = np.argsort(cited_n)[-top:]\n",
    "print(authors[top_ind])"
   ]
  },
  {
   "cell_type": "code",
   "execution_count": 109,
   "metadata": {},
   "outputs": [],
   "source": [
    "G_auth.data = np.ones(G_auth.nnz)\n",
    "\n",
    "assert G_auth.data.sum() == G_auth.nnz, 'Weights is not equal an one.'"
   ]
  },
  {
   "cell_type": "code",
   "execution_count": 110,
   "metadata": {},
   "outputs": [
    {
     "name": "stdout",
     "output_type": "stream",
     "text": [
      "CPU times: user 19 s, sys: 1.16 s, total: 20.2 s\n",
      "Wall time: 19.8 s\n"
     ]
    }
   ],
   "source": [
    "%%time\n",
    "A_auth = pagerank_matrix(G_auth)"
   ]
  },
  {
   "cell_type": "code",
   "execution_count": 111,
   "metadata": {},
   "outputs": [
    {
     "name": "stdout",
     "output_type": "stream",
     "text": [
      "OK!\n"
     ]
    }
   ],
   "source": [
    "sum_of_col = np.asarray(A_auth.sum(axis=0)).flatten()\n",
    "non_zero = np.where(~np.isclose(sum_of_col, 0))\n",
    "\n",
    "assert sum_of_col[non_zero].sum() == sum_of_col[non_zero].shape[0], 'Matrix is not a stochastic'\n",
    "print('OK!')"
   ]
  },
  {
   "cell_type": "markdown",
   "metadata": {},
   "source": [
    "### 2."
   ]
  },
  {
   "cell_type": "markdown",
   "metadata": {},
   "source": [
    "* (1 pts) In order to provide ```pagerank_matvec``` to your ```power_method``` (without rewriting it) for fast calculation of $A_dx$, you can create a ```LinearOperator```: \n",
    "```python\n",
    "L = scipy.sparse.linalg.LinearOperator(A.shape, matvec=lambda x, A=A, d=d: pagerank_matvec(A, d, x))\n",
    "```\n",
    "Calling ```L@x``` or ```L.dot(x)``` will result in calculation of ```pagerank_matvec(A, d, x)``` and, thus, you can plug $L$ instead of the matrix $A$ in the ```power_method``` directly. **Note:** though in the previous subtask graph was very small (so you could disparage fast matvec implementation), here it is very large (but sparse), so that direct evaluation of $A_dx$ will require $\\sim 10^{12}$ matrix elements to store - good luck with that (^_<)."
   ]
  },
  {
   "cell_type": "code",
   "execution_count": 112,
   "metadata": {},
   "outputs": [],
   "source": [
    "from scipy.sparse.linalg import LinearOperator"
   ]
  },
  {
   "cell_type": "code",
   "execution_count": 113,
   "metadata": {},
   "outputs": [],
   "source": [
    "d = 0.85\n",
    "L = LinearOperator(A_auth.shape, matvec=lambda x, A=A_auth, d=d: pagerank_matvec(A, d, x))"
   ]
  },
  {
   "cell_type": "markdown",
   "metadata": {},
   "source": [
    "* (2 pts) Run the power method starting from the vector of all ones and plot residuals $\\|A_dx_k - \\lambda_k x_k\\|_2$  as a function of $k$ for $d=0.85$."
   ]
  },
  {
   "cell_type": "code",
   "execution_count": 118,
   "metadata": {
    "scrolled": true
   },
   "outputs": [
    {
     "name": "stdout",
     "output_type": "stream",
     "text": [
      "CPU times: user 9min 30s, sys: 1.2 s, total: 9min 31s\n",
      "Wall time: 9min 31s\n"
     ]
    }
   ],
   "source": [
    "%%time\n",
    "num_iter = 5\n",
    "x = np.ones(A_auth.shape[0])\n",
    "\n",
    "v, l, res = power_method(L, x, num_iter)"
   ]
  },
  {
   "cell_type": "code",
   "execution_count": 119,
   "metadata": {},
   "outputs": [
    {
     "data": {
      "image/png": "[encoded data removed]",
      "text/plain": [
       "<Figure size 1296x576 with 1 Axes>"
      ]
     },
     "metadata": {
      "needs_background": "light"
     },
     "output_type": "display_data"
    }
   ],
   "source": [
    "plt.figure(figsize=(18, 8))\n",
    "plt.plot(res, 'b', label=r'$\\|Ax_k - \\lambda_k x_k\\|_2$')\n",
    "    \n",
    "plt.grid()\n",
    "plt.legend(loc='best', fontsize=18)\n",
    "plt.xlabel('k', fontsize=18)\n",
    "plt.title('History of residuals for DBLP', fontsize=18)\n",
    "plt.xscale('log')\n",
    "plt.show()"
   ]
  },
  {
   "cell_type": "markdown",
   "metadata": {},
   "source": [
    "* (1 pts) Print names of the top-10 authors according to PageRank over DBLP when $d=0.85$. Comment on your findings."
   ]
  },
  {
   "cell_type": "code",
   "execution_count": 120,
   "metadata": {},
   "outputs": [
    {
     "data": {
      "text/plain": [
       "array(['Jovan Aleksić', 'Dale Chambers', 'Katya P. Tsvetkova',\n",
       "       'Yeliz Cavusoglu', 'Pu Dong', 'J.A. Wong-Loya', 'Matteo Maino',\n",
       "       'Stefano Cuccuru', 'Antonio Puccini', 'Giacomo Oggiano'],\n",
       "      dtype='<U98')"
      ]
     },
     "execution_count": 120,
     "metadata": {},
     "output_type": "execute_result"
    }
   ],
   "source": [
    "top_authors_ind = np.argsort(v)[-10:]\n",
    "authors[top_authors_ind]"
   ]
  }
 ],
 "metadata": {
  "kernelspec": {
   "display_name": "Python 3",
   "language": "python",
   "name": "python3"
  },
  "language_info": {
   "codemirror_mode": {
    "name": "ipython",
    "version": 3
   },
   "file_extension": ".py",
   "mimetype": "text/x-python",
   "name": "python",
   "nbconvert_exporter": "python",
   "pygments_lexer": "ipython3",
   "version": "3.7.3"
  },
  "toc": {
   "base_numbering": 1,
   "nav_menu": {},
   "number_sections": true,
   "sideBar": true,
   "skip_h1_title": false,
   "title_cell": "Table of Contents",
   "title_sidebar": "Contents",
   "toc_cell": false,
   "toc_position": {},
   "toc_section_display": true,
   "toc_window_display": false
  }
 },
 "nbformat": 4,
 "nbformat_minor": 2
}
